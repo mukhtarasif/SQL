{
    "metadata": {
        "kernelspec": {
            "name": "SQL",
            "display_name": "SQL",
            "language": "sql"
        },
        "language_info": {
            "name": "sql",
            "version": ""
        }
    },
    "nbformat_minor": 2,
    "nbformat": 4,
    "cells": [
        {
            "cell_type": "markdown",
            "source": [
                "# **SQL TIPS AND TRICKS.**"
            ],
            "metadata": {
                "azdata_cell_guid": "7b678fe9-6a8b-45d3-91f8-bb024122069d"
            },
            "attachments": {}
        },
        {
            "cell_type": "markdown",
            "source": [
                ""
            ],
            "metadata": {
                "azdata_cell_guid": "1bd50d58-f24e-40c5-ba3f-d2903690c48c"
            }
        },
        {
            "cell_type": "markdown",
            "source": [
                "### **Select Specific Columns**"
            ],
            "metadata": {
                "azdata_cell_guid": "abcadc66-516b-44bd-82cf-f07703651ac4"
            },
            "attachments": {}
        },
        {
            "cell_type": "code",
            "source": [
                "SELECT TOP 5 CustomerName, City \r\n",
                "FROM dbo.Customers;\r\n",
                ""
            ],
            "metadata": {
                "azdata_cell_guid": "52174e80-c478-4f2f-9d1e-d6d8ca955f02",
                "language": "sql"
            },
            "outputs": [
                {
                    "output_type": "display_data",
                    "data": {
                        "text/html": "(5 rows affected)"
                    },
                    "metadata": {}
                },
                {
                    "output_type": "display_data",
                    "data": {
                        "text/html": "Total execution time: 00:00:00.012"
                    },
                    "metadata": {}
                },
                {
                    "output_type": "execute_result",
                    "execution_count": 38,
                    "data": {
                        "application/vnd.dataresource+json": {
                            "schema": {
                                "fields": [
                                    {
                                        "name": "CustomerName"
                                    },
                                    {
                                        "name": "City"
                                    }
                                ]
                            },
                            "data": [
                                {
                                    "CustomerName": "Alfreds Futterkiste ",
                                    "City": "Berlin "
                                },
                                {
                                    "CustomerName": "Ana Trujillo Emparedados y helados ",
                                    "City": "México D.F. "
                                },
                                {
                                    "CustomerName": "Antonio Moreno Taquería ",
                                    "City": "México D.F. "
                                },
                                {
                                    "CustomerName": "Around the Horn ",
                                    "City": "London "
                                },
                                {
                                    "CustomerName": "Berglunds snabbköp ",
                                    "City": "Luleå "
                                }
                            ]
                        },
                        "text/html": "<table><tr><th>CustomerName</th><th>City</th></tr><tr><td>Alfreds Futterkiste </td><td>Berlin </td></tr><tr><td>Ana Trujillo Emparedados y helados </td><td>México D.F. </td></tr><tr><td>Antonio Moreno Taquería </td><td>México D.F. </td></tr><tr><td>Around the Horn </td><td>London </td></tr><tr><td>Berglunds snabbköp </td><td>Luleå </td></tr></table>"
                    },
                    "metadata": {}
                }
            ],
            "execution_count": 38
        },
        {
            "cell_type": "markdown",
            "source": [
                "### **Alias Columns for Better Readability**"
            ],
            "metadata": {
                "azdata_cell_guid": "49081fd1-8886-4a24-a739-0aa1127e00c3"
            },
            "attachments": {}
        },
        {
            "cell_type": "code",
            "source": [
                "SELECT top 5 CustomerName AS 'Customer', City AS 'Location' \r\n",
                "FROM dbo.Customers;\r\n",
                ""
            ],
            "metadata": {
                "azdata_cell_guid": "726e92f5-2b21-4fa0-a179-8477c5f96978",
                "language": "sql"
            },
            "outputs": [
                {
                    "output_type": "display_data",
                    "data": {
                        "text/html": "(5 rows affected)"
                    },
                    "metadata": {}
                },
                {
                    "output_type": "display_data",
                    "data": {
                        "text/html": "Total execution time: 00:00:00.003"
                    },
                    "metadata": {}
                },
                {
                    "output_type": "execute_result",
                    "execution_count": 39,
                    "data": {
                        "application/vnd.dataresource+json": {
                            "schema": {
                                "fields": [
                                    {
                                        "name": "Customer"
                                    },
                                    {
                                        "name": "Location"
                                    }
                                ]
                            },
                            "data": [
                                {
                                    "Customer": "Alfreds Futterkiste ",
                                    "Location": "Berlin "
                                },
                                {
                                    "Customer": "Ana Trujillo Emparedados y helados ",
                                    "Location": "México D.F. "
                                },
                                {
                                    "Customer": "Antonio Moreno Taquería ",
                                    "Location": "México D.F. "
                                },
                                {
                                    "Customer": "Around the Horn ",
                                    "Location": "London "
                                },
                                {
                                    "Customer": "Berglunds snabbköp ",
                                    "Location": "Luleå "
                                }
                            ]
                        },
                        "text/html": "<table><tr><th>Customer</th><th>Location</th></tr><tr><td>Alfreds Futterkiste </td><td>Berlin </td></tr><tr><td>Ana Trujillo Emparedados y helados </td><td>México D.F. </td></tr><tr><td>Antonio Moreno Taquería </td><td>México D.F. </td></tr><tr><td>Around the Horn </td><td>London </td></tr><tr><td>Berglunds snabbköp </td><td>Luleå </td></tr></table>"
                    },
                    "metadata": {}
                }
            ],
            "execution_count": 39
        },
        {
            "cell_type": "markdown",
            "source": [
                "### **Use WHERE to Filter Data**"
            ],
            "metadata": {
                "azdata_cell_guid": "74bd1b4c-1cb6-451d-9a49-bfe1a97c3af9"
            },
            "attachments": {}
        },
        {
            "cell_type": "code",
            "source": [
                "SELECT *\r\n",
                "FROM dbo.Orders \r\n",
                "WHERE OrderDate > '1996-07-08';\r\n",
                ""
            ],
            "metadata": {
                "azdata_cell_guid": "f0f364d0-7b12-487b-84aa-e941d06ab17c",
                "language": "sql"
            },
            "outputs": [
                {
                    "output_type": "display_data",
                    "data": {
                        "text/html": "(192 rows affected)"
                    },
                    "metadata": {}
                },
                {
                    "output_type": "display_data",
                    "data": {
                        "text/html": "Total execution time: 00:00:00.005"
                    },
                    "metadata": {}
                },
                {
                    "output_type": "execute_result",
                    "execution_count": 40,
                    "data": {
                        "application/vnd.dataresource+json": {
                            "schema": {
                                "fields": [
                                    {
                                        "name": "OrderID"
                                    },
                                    {
                                        "name": "CustomerID"
                                    },
                                    {
                                        "name": "EmployeeID"
                                    },
                                    {
                                        "name": "OrderDate"
                                    },
                                    {
                                        "name": "ShipperID"
                                    }
                                ]
                            },
                            "data": [
                                {
                                    "OrderID": "10252",
                                    "CustomerID": "76",
                                    "EmployeeID": "4",
                                    "OrderDate": "1996-07-09",
                                    "ShipperID": "2"
                                },
                                {
                                    "OrderID": "10253",
                                    "CustomerID": "34",
                                    "EmployeeID": "3",
                                    "OrderDate": "1996-07-10",
                                    "ShipperID": "2"
                                },
                                {
                                    "OrderID": "10254",
                                    "CustomerID": "14",
                                    "EmployeeID": "5",
                                    "OrderDate": "1996-07-11",
                                    "ShipperID": "2"
                                },
                                {
                                    "OrderID": "10255",
                                    "CustomerID": "68",
                                    "EmployeeID": "9",
                                    "OrderDate": "1996-07-12",
                                    "ShipperID": "3"
                                },
                                {
                                    "OrderID": "10256",
                                    "CustomerID": "88",
                                    "EmployeeID": "3",
                                    "OrderDate": "1996-07-15",
                                    "ShipperID": "2"
                                },
                                {
                                    "OrderID": "10257",
                                    "CustomerID": "35",
                                    "EmployeeID": "4",
                                    "OrderDate": "1996-07-16",
                                    "ShipperID": "3"
                                },
                                {
                                    "OrderID": "10258",
                                    "CustomerID": "20",
                                    "EmployeeID": "1",
                                    "OrderDate": "1996-07-17",
                                    "ShipperID": "1"
                                },
                                {
                                    "OrderID": "10259",
                                    "CustomerID": "13",
                                    "EmployeeID": "4",
                                    "OrderDate": "1996-07-18",
                                    "ShipperID": "3"
                                },
                                {
                                    "OrderID": "10260",
                                    "CustomerID": "55",
                                    "EmployeeID": "4",
                                    "OrderDate": "1996-07-19",
                                    "ShipperID": "1"
                                },
                                {
                                    "OrderID": "10261",
                                    "CustomerID": "61",
                                    "EmployeeID": "4",
                                    "OrderDate": "1996-07-19",
                                    "ShipperID": "2"
                                },
                                {
                                    "OrderID": "10262",
                                    "CustomerID": "65",
                                    "EmployeeID": "8",
                                    "OrderDate": "1996-07-22",
                                    "ShipperID": "3"
                                },
                                {
                                    "OrderID": "10263",
                                    "CustomerID": "20",
                                    "EmployeeID": "9",
                                    "OrderDate": "1996-07-23",
                                    "ShipperID": "3"
                                },
                                {
                                    "OrderID": "10264",
                                    "CustomerID": "24",
                                    "EmployeeID": "6",
                                    "OrderDate": "1996-07-24",
                                    "ShipperID": "3"
                                },
                                {
                                    "OrderID": "10265",
                                    "CustomerID": "7",
                                    "EmployeeID": "2",
                                    "OrderDate": "1996-07-25",
                                    "ShipperID": "1"
                                },
                                {
                                    "OrderID": "10266",
                                    "CustomerID": "87",
                                    "EmployeeID": "3",
                                    "OrderDate": "1996-07-26",
                                    "ShipperID": "3"
                                },
                                {
                                    "OrderID": "10267",
                                    "CustomerID": "25",
                                    "EmployeeID": "4",
                                    "OrderDate": "1996-07-29",
                                    "ShipperID": "1"
                                },
                                {
                                    "OrderID": "10268",
                                    "CustomerID": "33",
                                    "EmployeeID": "8",
                                    "OrderDate": "1996-07-30",
                                    "ShipperID": "3"
                                },
                                {
                                    "OrderID": "10269",
                                    "CustomerID": "89",
                                    "EmployeeID": "5",
                                    "OrderDate": "1996-07-31",
                                    "ShipperID": "1"
                                },
                                {
                                    "OrderID": "10270",
                                    "CustomerID": "87",
                                    "EmployeeID": "1",
                                    "OrderDate": "1996-08-01",
                                    "ShipperID": "1"
                                },
                                {
                                    "OrderID": "10271",
                                    "CustomerID": "75",
                                    "EmployeeID": "6",
                                    "OrderDate": "1996-08-01",
                                    "ShipperID": "2"
                                },
                                {
                                    "OrderID": "10272",
                                    "CustomerID": "65",
                                    "EmployeeID": "6",
                                    "OrderDate": "1996-08-02",
                                    "ShipperID": "2"
                                },
                                {
                                    "OrderID": "10273",
                                    "CustomerID": "63",
                                    "EmployeeID": "3",
                                    "OrderDate": "1996-08-05",
                                    "ShipperID": "3"
                                },
                                {
                                    "OrderID": "10274",
                                    "CustomerID": "85",
                                    "EmployeeID": "6",
                                    "OrderDate": "1996-08-06",
                                    "ShipperID": "1"
                                },
                                {
                                    "OrderID": "10275",
                                    "CustomerID": "49",
                                    "EmployeeID": "1",
                                    "OrderDate": "1996-08-07",
                                    "ShipperID": "1"
                                },
                                {
                                    "OrderID": "10276",
                                    "CustomerID": "80",
                                    "EmployeeID": "8",
                                    "OrderDate": "1996-08-08",
                                    "ShipperID": "3"
                                },
                                {
                                    "OrderID": "10277",
                                    "CustomerID": "52",
                                    "EmployeeID": "2",
                                    "OrderDate": "1996-08-09",
                                    "ShipperID": "3"
                                },
                                {
                                    "OrderID": "10278",
                                    "CustomerID": "5",
                                    "EmployeeID": "8",
                                    "OrderDate": "1996-08-12",
                                    "ShipperID": "2"
                                },
                                {
                                    "OrderID": "10279",
                                    "CustomerID": "44",
                                    "EmployeeID": "8",
                                    "OrderDate": "1996-08-13",
                                    "ShipperID": "2"
                                },
                                {
                                    "OrderID": "10280",
                                    "CustomerID": "5",
                                    "EmployeeID": "2",
                                    "OrderDate": "1996-08-14",
                                    "ShipperID": "1"
                                },
                                {
                                    "OrderID": "10281",
                                    "CustomerID": "69",
                                    "EmployeeID": "4",
                                    "OrderDate": "1996-08-14",
                                    "ShipperID": "1"
                                },
                                {
                                    "OrderID": "10282",
                                    "CustomerID": "69",
                                    "EmployeeID": "4",
                                    "OrderDate": "1996-08-15",
                                    "ShipperID": "1"
                                },
                                {
                                    "OrderID": "10283",
                                    "CustomerID": "46",
                                    "EmployeeID": "3",
                                    "OrderDate": "1996-08-16",
                                    "ShipperID": "3"
                                },
                                {
                                    "OrderID": "10284",
                                    "CustomerID": "44",
                                    "EmployeeID": "4",
                                    "OrderDate": "1996-08-19",
                                    "ShipperID": "1"
                                },
                                {
                                    "OrderID": "10285",
                                    "CustomerID": "63",
                                    "EmployeeID": "1",
                                    "OrderDate": "1996-08-20",
                                    "ShipperID": "2"
                                },
                                {
                                    "OrderID": "10286",
                                    "CustomerID": "63",
                                    "EmployeeID": "8",
                                    "OrderDate": "1996-08-21",
                                    "ShipperID": "3"
                                },
                                {
                                    "OrderID": "10287",
                                    "CustomerID": "67",
                                    "EmployeeID": "8",
                                    "OrderDate": "1996-08-22",
                                    "ShipperID": "3"
                                },
                                {
                                    "OrderID": "10288",
                                    "CustomerID": "66",
                                    "EmployeeID": "4",
                                    "OrderDate": "1996-08-23",
                                    "ShipperID": "1"
                                },
                                {
                                    "OrderID": "10289",
                                    "CustomerID": "11",
                                    "EmployeeID": "7",
                                    "OrderDate": "1996-08-26",
                                    "ShipperID": "3"
                                },
                                {
                                    "OrderID": "10290",
                                    "CustomerID": "15",
                                    "EmployeeID": "8",
                                    "OrderDate": "1996-08-27",
                                    "ShipperID": "1"
                                },
                                {
                                    "OrderID": "10291",
                                    "CustomerID": "61",
                                    "EmployeeID": "6",
                                    "OrderDate": "1996-08-27",
                                    "ShipperID": "2"
                                },
                                {
                                    "OrderID": "10292",
                                    "CustomerID": "81",
                                    "EmployeeID": "1",
                                    "OrderDate": "1996-08-28",
                                    "ShipperID": "2"
                                },
                                {
                                    "OrderID": "10293",
                                    "CustomerID": "80",
                                    "EmployeeID": "1",
                                    "OrderDate": "1996-08-29",
                                    "ShipperID": "3"
                                },
                                {
                                    "OrderID": "10294",
                                    "CustomerID": "65",
                                    "EmployeeID": "4",
                                    "OrderDate": "1996-08-30",
                                    "ShipperID": "2"
                                },
                                {
                                    "OrderID": "10295",
                                    "CustomerID": "85",
                                    "EmployeeID": "2",
                                    "OrderDate": "1996-09-02",
                                    "ShipperID": "2"
                                },
                                {
                                    "OrderID": "10296",
                                    "CustomerID": "46",
                                    "EmployeeID": "6",
                                    "OrderDate": "1996-09-03",
                                    "ShipperID": "1"
                                },
                                {
                                    "OrderID": "10297",
                                    "CustomerID": "7",
                                    "EmployeeID": "5",
                                    "OrderDate": "1996-09-04",
                                    "ShipperID": "2"
                                },
                                {
                                    "OrderID": "10298",
                                    "CustomerID": "37",
                                    "EmployeeID": "6",
                                    "OrderDate": "1996-09-05",
                                    "ShipperID": "2"
                                },
                                {
                                    "OrderID": "10299",
                                    "CustomerID": "67",
                                    "EmployeeID": "4",
                                    "OrderDate": "1996-09-06",
                                    "ShipperID": "2"
                                },
                                {
                                    "OrderID": "10300",
                                    "CustomerID": "49",
                                    "EmployeeID": "2",
                                    "OrderDate": "1996-09-09",
                                    "ShipperID": "2"
                                },
                                {
                                    "OrderID": "10301",
                                    "CustomerID": "86",
                                    "EmployeeID": "8",
                                    "OrderDate": "1996-09-09",
                                    "ShipperID": "2"
                                },
                                {
                                    "OrderID": "10302",
                                    "CustomerID": "76",
                                    "EmployeeID": "4",
                                    "OrderDate": "1996-09-10",
                                    "ShipperID": "2"
                                },
                                {
                                    "OrderID": "10303",
                                    "CustomerID": "30",
                                    "EmployeeID": "7",
                                    "OrderDate": "1996-09-11",
                                    "ShipperID": "2"
                                },
                                {
                                    "OrderID": "10304",
                                    "CustomerID": "80",
                                    "EmployeeID": "1",
                                    "OrderDate": "1996-09-12",
                                    "ShipperID": "2"
                                },
                                {
                                    "OrderID": "10305",
                                    "CustomerID": "55",
                                    "EmployeeID": "8",
                                    "OrderDate": "1996-09-13",
                                    "ShipperID": "3"
                                },
                                {
                                    "OrderID": "10306",
                                    "CustomerID": "69",
                                    "EmployeeID": "1",
                                    "OrderDate": "1996-09-16",
                                    "ShipperID": "3"
                                },
                                {
                                    "OrderID": "10307",
                                    "CustomerID": "48",
                                    "EmployeeID": "2",
                                    "OrderDate": "1996-09-17",
                                    "ShipperID": "2"
                                },
                                {
                                    "OrderID": "10308",
                                    "CustomerID": "2",
                                    "EmployeeID": "7",
                                    "OrderDate": "1996-09-18",
                                    "ShipperID": "3"
                                },
                                {
                                    "OrderID": "10309",
                                    "CustomerID": "37",
                                    "EmployeeID": "3",
                                    "OrderDate": "1996-09-19",
                                    "ShipperID": "1"
                                },
                                {
                                    "OrderID": "10310",
                                    "CustomerID": "77",
                                    "EmployeeID": "8",
                                    "OrderDate": "1996-09-20",
                                    "ShipperID": "2"
                                },
                                {
                                    "OrderID": "10311",
                                    "CustomerID": "18",
                                    "EmployeeID": "1",
                                    "OrderDate": "1996-09-20",
                                    "ShipperID": "3"
                                },
                                {
                                    "OrderID": "10312",
                                    "CustomerID": "86",
                                    "EmployeeID": "2",
                                    "OrderDate": "1996-09-23",
                                    "ShipperID": "2"
                                },
                                {
                                    "OrderID": "10313",
                                    "CustomerID": "63",
                                    "EmployeeID": "2",
                                    "OrderDate": "1996-09-24",
                                    "ShipperID": "2"
                                },
                                {
                                    "OrderID": "10314",
                                    "CustomerID": "65",
                                    "EmployeeID": "1",
                                    "OrderDate": "1996-09-25",
                                    "ShipperID": "2"
                                },
                                {
                                    "OrderID": "10315",
                                    "CustomerID": "38",
                                    "EmployeeID": "4",
                                    "OrderDate": "1996-09-26",
                                    "ShipperID": "2"
                                },
                                {
                                    "OrderID": "10316",
                                    "CustomerID": "65",
                                    "EmployeeID": "1",
                                    "OrderDate": "1996-09-27",
                                    "ShipperID": "3"
                                },
                                {
                                    "OrderID": "10317",
                                    "CustomerID": "48",
                                    "EmployeeID": "6",
                                    "OrderDate": "1996-09-30",
                                    "ShipperID": "1"
                                },
                                {
                                    "OrderID": "10318",
                                    "CustomerID": "38",
                                    "EmployeeID": "8",
                                    "OrderDate": "1996-10-01",
                                    "ShipperID": "2"
                                },
                                {
                                    "OrderID": "10319",
                                    "CustomerID": "80",
                                    "EmployeeID": "7",
                                    "OrderDate": "1996-10-02",
                                    "ShipperID": "3"
                                },
                                {
                                    "OrderID": "10320",
                                    "CustomerID": "87",
                                    "EmployeeID": "5",
                                    "OrderDate": "1996-10-03",
                                    "ShipperID": "3"
                                },
                                {
                                    "OrderID": "10321",
                                    "CustomerID": "38",
                                    "EmployeeID": "3",
                                    "OrderDate": "1996-10-03",
                                    "ShipperID": "2"
                                },
                                {
                                    "OrderID": "10322",
                                    "CustomerID": "58",
                                    "EmployeeID": "7",
                                    "OrderDate": "1996-10-04",
                                    "ShipperID": "3"
                                },
                                {
                                    "OrderID": "10323",
                                    "CustomerID": "39",
                                    "EmployeeID": "4",
                                    "OrderDate": "1996-10-07",
                                    "ShipperID": "1"
                                },
                                {
                                    "OrderID": "10324",
                                    "CustomerID": "71",
                                    "EmployeeID": "9",
                                    "OrderDate": "1996-10-08",
                                    "ShipperID": "1"
                                },
                                {
                                    "OrderID": "10325",
                                    "CustomerID": "39",
                                    "EmployeeID": "1",
                                    "OrderDate": "1996-10-09",
                                    "ShipperID": "3"
                                },
                                {
                                    "OrderID": "10326",
                                    "CustomerID": "8",
                                    "EmployeeID": "4",
                                    "OrderDate": "1996-10-10",
                                    "ShipperID": "2"
                                },
                                {
                                    "OrderID": "10327",
                                    "CustomerID": "24",
                                    "EmployeeID": "2",
                                    "OrderDate": "1996-10-11",
                                    "ShipperID": "1"
                                },
                                {
                                    "OrderID": "10328",
                                    "CustomerID": "28",
                                    "EmployeeID": "4",
                                    "OrderDate": "1996-10-14",
                                    "ShipperID": "3"
                                },
                                {
                                    "OrderID": "10329",
                                    "CustomerID": "75",
                                    "EmployeeID": "4",
                                    "OrderDate": "1996-10-15",
                                    "ShipperID": "2"
                                },
                                {
                                    "OrderID": "10330",
                                    "CustomerID": "46",
                                    "EmployeeID": "3",
                                    "OrderDate": "1996-10-16",
                                    "ShipperID": "1"
                                },
                                {
                                    "OrderID": "10331",
                                    "CustomerID": "9",
                                    "EmployeeID": "9",
                                    "OrderDate": "1996-10-16",
                                    "ShipperID": "1"
                                },
                                {
                                    "OrderID": "10332",
                                    "CustomerID": "51",
                                    "EmployeeID": "3",
                                    "OrderDate": "1996-10-17",
                                    "ShipperID": "2"
                                },
                                {
                                    "OrderID": "10333",
                                    "CustomerID": "87",
                                    "EmployeeID": "5",
                                    "OrderDate": "1996-10-18",
                                    "ShipperID": "3"
                                },
                                {
                                    "OrderID": "10334",
                                    "CustomerID": "84",
                                    "EmployeeID": "8",
                                    "OrderDate": "1996-10-21",
                                    "ShipperID": "2"
                                },
                                {
                                    "OrderID": "10335",
                                    "CustomerID": "37",
                                    "EmployeeID": "7",
                                    "OrderDate": "1996-10-22",
                                    "ShipperID": "2"
                                },
                                {
                                    "OrderID": "10336",
                                    "CustomerID": "60",
                                    "EmployeeID": "7",
                                    "OrderDate": "1996-10-23",
                                    "ShipperID": "2"
                                },
                                {
                                    "OrderID": "10337",
                                    "CustomerID": "25",
                                    "EmployeeID": "4",
                                    "OrderDate": "1996-10-24",
                                    "ShipperID": "3"
                                },
                                {
                                    "OrderID": "10338",
                                    "CustomerID": "55",
                                    "EmployeeID": "4",
                                    "OrderDate": "1996-10-25",
                                    "ShipperID": "3"
                                },
                                {
                                    "OrderID": "10339",
                                    "CustomerID": "51",
                                    "EmployeeID": "2",
                                    "OrderDate": "1996-10-28",
                                    "ShipperID": "2"
                                },
                                {
                                    "OrderID": "10340",
                                    "CustomerID": "9",
                                    "EmployeeID": "1",
                                    "OrderDate": "1996-10-29",
                                    "ShipperID": "3"
                                },
                                {
                                    "OrderID": "10341",
                                    "CustomerID": "73",
                                    "EmployeeID": "7",
                                    "OrderDate": "1996-10-29",
                                    "ShipperID": "3"
                                },
                                {
                                    "OrderID": "10342",
                                    "CustomerID": "25",
                                    "EmployeeID": "4",
                                    "OrderDate": "1996-10-30",
                                    "ShipperID": "2"
                                },
                                {
                                    "OrderID": "10343",
                                    "CustomerID": "44",
                                    "EmployeeID": "4",
                                    "OrderDate": "1996-10-31",
                                    "ShipperID": "1"
                                },
                                {
                                    "OrderID": "10344",
                                    "CustomerID": "89",
                                    "EmployeeID": "4",
                                    "OrderDate": "1996-11-01",
                                    "ShipperID": "2"
                                },
                                {
                                    "OrderID": "10345",
                                    "CustomerID": "63",
                                    "EmployeeID": "2",
                                    "OrderDate": "1996-11-04",
                                    "ShipperID": "2"
                                },
                                {
                                    "OrderID": "10346",
                                    "CustomerID": "65",
                                    "EmployeeID": "3",
                                    "OrderDate": "1996-11-05",
                                    "ShipperID": "3"
                                },
                                {
                                    "OrderID": "10347",
                                    "CustomerID": "21",
                                    "EmployeeID": "4",
                                    "OrderDate": "1996-11-06",
                                    "ShipperID": "3"
                                },
                                {
                                    "OrderID": "10348",
                                    "CustomerID": "86",
                                    "EmployeeID": "4",
                                    "OrderDate": "1996-11-07",
                                    "ShipperID": "2"
                                },
                                {
                                    "OrderID": "10349",
                                    "CustomerID": "75",
                                    "EmployeeID": "7",
                                    "OrderDate": "1996-11-08",
                                    "ShipperID": "1"
                                },
                                {
                                    "OrderID": "10350",
                                    "CustomerID": "41",
                                    "EmployeeID": "6",
                                    "OrderDate": "1996-11-11",
                                    "ShipperID": "2"
                                },
                                {
                                    "OrderID": "10351",
                                    "CustomerID": "20",
                                    "EmployeeID": "1",
                                    "OrderDate": "1996-11-11",
                                    "ShipperID": "1"
                                },
                                {
                                    "OrderID": "10352",
                                    "CustomerID": "28",
                                    "EmployeeID": "3",
                                    "OrderDate": "1996-11-12",
                                    "ShipperID": "3"
                                },
                                {
                                    "OrderID": "10353",
                                    "CustomerID": "59",
                                    "EmployeeID": "7",
                                    "OrderDate": "1996-11-13",
                                    "ShipperID": "3"
                                },
                                {
                                    "OrderID": "10354",
                                    "CustomerID": "58",
                                    "EmployeeID": "8",
                                    "OrderDate": "1996-11-14",
                                    "ShipperID": "3"
                                },
                                {
                                    "OrderID": "10355",
                                    "CustomerID": "4",
                                    "EmployeeID": "6",
                                    "OrderDate": "1996-11-15",
                                    "ShipperID": "1"
                                },
                                {
                                    "OrderID": "10356",
                                    "CustomerID": "86",
                                    "EmployeeID": "6",
                                    "OrderDate": "1996-11-18",
                                    "ShipperID": "2"
                                },
                                {
                                    "OrderID": "10357",
                                    "CustomerID": "46",
                                    "EmployeeID": "1",
                                    "OrderDate": "1996-11-19",
                                    "ShipperID": "3"
                                },
                                {
                                    "OrderID": "10358",
                                    "CustomerID": "41",
                                    "EmployeeID": "5",
                                    "OrderDate": "1996-11-20",
                                    "ShipperID": "1"
                                },
                                {
                                    "OrderID": "10359",
                                    "CustomerID": "72",
                                    "EmployeeID": "5",
                                    "OrderDate": "1996-11-21",
                                    "ShipperID": "3"
                                },
                                {
                                    "OrderID": "10360",
                                    "CustomerID": "7",
                                    "EmployeeID": "4",
                                    "OrderDate": "1996-11-22",
                                    "ShipperID": "3"
                                },
                                {
                                    "OrderID": "10361",
                                    "CustomerID": "63",
                                    "EmployeeID": "1",
                                    "OrderDate": "1996-11-22",
                                    "ShipperID": "2"
                                },
                                {
                                    "OrderID": "10362",
                                    "CustomerID": "9",
                                    "EmployeeID": "3",
                                    "OrderDate": "1996-11-25",
                                    "ShipperID": "1"
                                },
                                {
                                    "OrderID": "10363",
                                    "CustomerID": "17",
                                    "EmployeeID": "4",
                                    "OrderDate": "1996-11-26",
                                    "ShipperID": "3"
                                },
                                {
                                    "OrderID": "10364",
                                    "CustomerID": "19",
                                    "EmployeeID": "1",
                                    "OrderDate": "1996-11-26",
                                    "ShipperID": "1"
                                },
                                {
                                    "OrderID": "10365",
                                    "CustomerID": "3",
                                    "EmployeeID": "3",
                                    "OrderDate": "1996-11-27",
                                    "ShipperID": "2"
                                },
                                {
                                    "OrderID": "10366",
                                    "CustomerID": "29",
                                    "EmployeeID": "8",
                                    "OrderDate": "1996-11-28",
                                    "ShipperID": "2"
                                },
                                {
                                    "OrderID": "10367",
                                    "CustomerID": "83",
                                    "EmployeeID": "7",
                                    "OrderDate": "1996-11-28",
                                    "ShipperID": "3"
                                },
                                {
                                    "OrderID": "10368",
                                    "CustomerID": "20",
                                    "EmployeeID": "2",
                                    "OrderDate": "1996-11-29",
                                    "ShipperID": "2"
                                },
                                {
                                    "OrderID": "10369",
                                    "CustomerID": "75",
                                    "EmployeeID": "8",
                                    "OrderDate": "1996-12-02",
                                    "ShipperID": "2"
                                },
                                {
                                    "OrderID": "10370",
                                    "CustomerID": "14",
                                    "EmployeeID": "6",
                                    "OrderDate": "1996-12-03",
                                    "ShipperID": "2"
                                },
                                {
                                    "OrderID": "10371",
                                    "CustomerID": "41",
                                    "EmployeeID": "1",
                                    "OrderDate": "1996-12-03",
                                    "ShipperID": "1"
                                },
                                {
                                    "OrderID": "10372",
                                    "CustomerID": "62",
                                    "EmployeeID": "5",
                                    "OrderDate": "1996-12-04",
                                    "ShipperID": "2"
                                },
                                {
                                    "OrderID": "10373",
                                    "CustomerID": "37",
                                    "EmployeeID": "4",
                                    "OrderDate": "1996-12-05",
                                    "ShipperID": "3"
                                },
                                {
                                    "OrderID": "10374",
                                    "CustomerID": "91",
                                    "EmployeeID": "1",
                                    "OrderDate": "1996-12-05",
                                    "ShipperID": "3"
                                },
                                {
                                    "OrderID": "10375",
                                    "CustomerID": "36",
                                    "EmployeeID": "3",
                                    "OrderDate": "1996-12-06",
                                    "ShipperID": "2"
                                },
                                {
                                    "OrderID": "10376",
                                    "CustomerID": "51",
                                    "EmployeeID": "1",
                                    "OrderDate": "1996-12-09",
                                    "ShipperID": "2"
                                },
                                {
                                    "OrderID": "10377",
                                    "CustomerID": "72",
                                    "EmployeeID": "1",
                                    "OrderDate": "1996-12-09",
                                    "ShipperID": "3"
                                },
                                {
                                    "OrderID": "10378",
                                    "CustomerID": "24",
                                    "EmployeeID": "5",
                                    "OrderDate": "1996-12-10",
                                    "ShipperID": "3"
                                },
                                {
                                    "OrderID": "10379",
                                    "CustomerID": "61",
                                    "EmployeeID": "2",
                                    "OrderDate": "1996-12-11",
                                    "ShipperID": "1"
                                },
                                {
                                    "OrderID": "10380",
                                    "CustomerID": "37",
                                    "EmployeeID": "8",
                                    "OrderDate": "1996-12-12",
                                    "ShipperID": "3"
                                },
                                {
                                    "OrderID": "10381",
                                    "CustomerID": "46",
                                    "EmployeeID": "3",
                                    "OrderDate": "1996-12-12",
                                    "ShipperID": "3"
                                },
                                {
                                    "OrderID": "10382",
                                    "CustomerID": "20",
                                    "EmployeeID": "4",
                                    "OrderDate": "1996-12-13",
                                    "ShipperID": "1"
                                },
                                {
                                    "OrderID": "10383",
                                    "CustomerID": "4",
                                    "EmployeeID": "8",
                                    "OrderDate": "1996-12-16",
                                    "ShipperID": "3"
                                },
                                {
                                    "OrderID": "10384",
                                    "CustomerID": "5",
                                    "EmployeeID": "3",
                                    "OrderDate": "1996-12-16",
                                    "ShipperID": "3"
                                },
                                {
                                    "OrderID": "10385",
                                    "CustomerID": "75",
                                    "EmployeeID": "1",
                                    "OrderDate": "1996-12-17",
                                    "ShipperID": "2"
                                },
                                {
                                    "OrderID": "10386",
                                    "CustomerID": "21",
                                    "EmployeeID": "9",
                                    "OrderDate": "1996-12-18",
                                    "ShipperID": "3"
                                },
                                {
                                    "OrderID": "10387",
                                    "CustomerID": "70",
                                    "EmployeeID": "1",
                                    "OrderDate": "1996-12-18",
                                    "ShipperID": "2"
                                },
                                {
                                    "OrderID": "10388",
                                    "CustomerID": "72",
                                    "EmployeeID": "2",
                                    "OrderDate": "1996-12-19",
                                    "ShipperID": "1"
                                },
                                {
                                    "OrderID": "10389",
                                    "CustomerID": "10",
                                    "EmployeeID": "4",
                                    "OrderDate": "1996-12-20",
                                    "ShipperID": "2"
                                },
                                {
                                    "OrderID": "10390",
                                    "CustomerID": "20",
                                    "EmployeeID": "6",
                                    "OrderDate": "1996-12-23",
                                    "ShipperID": "1"
                                },
                                {
                                    "OrderID": "10391",
                                    "CustomerID": "17",
                                    "EmployeeID": "3",
                                    "OrderDate": "1996-12-23",
                                    "ShipperID": "3"
                                },
                                {
                                    "OrderID": "10392",
                                    "CustomerID": "59",
                                    "EmployeeID": "2",
                                    "OrderDate": "1996-12-24",
                                    "ShipperID": "3"
                                },
                                {
                                    "OrderID": "10393",
                                    "CustomerID": "71",
                                    "EmployeeID": "1",
                                    "OrderDate": "1996-12-25",
                                    "ShipperID": "3"
                                },
                                {
                                    "OrderID": "10394",
                                    "CustomerID": "36",
                                    "EmployeeID": "1",
                                    "OrderDate": "1996-12-25",
                                    "ShipperID": "3"
                                },
                                {
                                    "OrderID": "10395",
                                    "CustomerID": "35",
                                    "EmployeeID": "6",
                                    "OrderDate": "1996-12-26",
                                    "ShipperID": "1"
                                },
                                {
                                    "OrderID": "10396",
                                    "CustomerID": "25",
                                    "EmployeeID": "1",
                                    "OrderDate": "1996-12-27",
                                    "ShipperID": "3"
                                },
                                {
                                    "OrderID": "10397",
                                    "CustomerID": "60",
                                    "EmployeeID": "5",
                                    "OrderDate": "1996-12-27",
                                    "ShipperID": "1"
                                },
                                {
                                    "OrderID": "10398",
                                    "CustomerID": "71",
                                    "EmployeeID": "2",
                                    "OrderDate": "1996-12-30",
                                    "ShipperID": "3"
                                },
                                {
                                    "OrderID": "10399",
                                    "CustomerID": "83",
                                    "EmployeeID": "8",
                                    "OrderDate": "1996-12-31",
                                    "ShipperID": "3"
                                },
                                {
                                    "OrderID": "10400",
                                    "CustomerID": "19",
                                    "EmployeeID": "1",
                                    "OrderDate": "1997-01-01",
                                    "ShipperID": "3"
                                },
                                {
                                    "OrderID": "10401",
                                    "CustomerID": "65",
                                    "EmployeeID": "1",
                                    "OrderDate": "1997-01-01",
                                    "ShipperID": "1"
                                },
                                {
                                    "OrderID": "10402",
                                    "CustomerID": "20",
                                    "EmployeeID": "8",
                                    "OrderDate": "1997-01-02",
                                    "ShipperID": "2"
                                },
                                {
                                    "OrderID": "10403",
                                    "CustomerID": "20",
                                    "EmployeeID": "4",
                                    "OrderDate": "1997-01-03",
                                    "ShipperID": "3"
                                },
                                {
                                    "OrderID": "10404",
                                    "CustomerID": "49",
                                    "EmployeeID": "2",
                                    "OrderDate": "1997-01-03",
                                    "ShipperID": "1"
                                },
                                {
                                    "OrderID": "10405",
                                    "CustomerID": "47",
                                    "EmployeeID": "1",
                                    "OrderDate": "1997-01-06",
                                    "ShipperID": "1"
                                },
                                {
                                    "OrderID": "10406",
                                    "CustomerID": "62",
                                    "EmployeeID": "7",
                                    "OrderDate": "1997-01-07",
                                    "ShipperID": "1"
                                },
                                {
                                    "OrderID": "10407",
                                    "CustomerID": "56",
                                    "EmployeeID": "2",
                                    "OrderDate": "1997-01-07",
                                    "ShipperID": "2"
                                },
                                {
                                    "OrderID": "10408",
                                    "CustomerID": "23",
                                    "EmployeeID": "8",
                                    "OrderDate": "1997-01-08",
                                    "ShipperID": "1"
                                },
                                {
                                    "OrderID": "10409",
                                    "CustomerID": "54",
                                    "EmployeeID": "3",
                                    "OrderDate": "1997-01-09",
                                    "ShipperID": "1"
                                },
                                {
                                    "OrderID": "10410",
                                    "CustomerID": "10",
                                    "EmployeeID": "3",
                                    "OrderDate": "1997-01-10",
                                    "ShipperID": "3"
                                },
                                {
                                    "OrderID": "10411",
                                    "CustomerID": "10",
                                    "EmployeeID": "9",
                                    "OrderDate": "1997-01-10",
                                    "ShipperID": "3"
                                },
                                {
                                    "OrderID": "10412",
                                    "CustomerID": "87",
                                    "EmployeeID": "8",
                                    "OrderDate": "1997-01-13",
                                    "ShipperID": "2"
                                },
                                {
                                    "OrderID": "10413",
                                    "CustomerID": "41",
                                    "EmployeeID": "3",
                                    "OrderDate": "1997-01-14",
                                    "ShipperID": "2"
                                },
                                {
                                    "OrderID": "10414",
                                    "CustomerID": "21",
                                    "EmployeeID": "2",
                                    "OrderDate": "1997-01-14",
                                    "ShipperID": "3"
                                },
                                {
                                    "OrderID": "10415",
                                    "CustomerID": "36",
                                    "EmployeeID": "3",
                                    "OrderDate": "1997-01-15",
                                    "ShipperID": "1"
                                },
                                {
                                    "OrderID": "10416",
                                    "CustomerID": "87",
                                    "EmployeeID": "8",
                                    "OrderDate": "1997-01-16",
                                    "ShipperID": "3"
                                },
                                {
                                    "OrderID": "10417",
                                    "CustomerID": "73",
                                    "EmployeeID": "4",
                                    "OrderDate": "1997-01-16",
                                    "ShipperID": "3"
                                },
                                {
                                    "OrderID": "10418",
                                    "CustomerID": "63",
                                    "EmployeeID": "4",
                                    "OrderDate": "1997-01-17",
                                    "ShipperID": "1"
                                },
                                {
                                    "OrderID": "10419",
                                    "CustomerID": "68",
                                    "EmployeeID": "4",
                                    "OrderDate": "1997-01-20",
                                    "ShipperID": "2"
                                },
                                {
                                    "OrderID": "10420",
                                    "CustomerID": "88",
                                    "EmployeeID": "3",
                                    "OrderDate": "1997-01-21",
                                    "ShipperID": "1"
                                },
                                {
                                    "OrderID": "10421",
                                    "CustomerID": "61",
                                    "EmployeeID": "8",
                                    "OrderDate": "1997-01-21",
                                    "ShipperID": "1"
                                },
                                {
                                    "OrderID": "10422",
                                    "CustomerID": "27",
                                    "EmployeeID": "2",
                                    "OrderDate": "1997-01-22",
                                    "ShipperID": "1"
                                },
                                {
                                    "OrderID": "10423",
                                    "CustomerID": "31",
                                    "EmployeeID": "6",
                                    "OrderDate": "1997-01-23",
                                    "ShipperID": "3"
                                },
                                {
                                    "OrderID": "10424",
                                    "CustomerID": "51",
                                    "EmployeeID": "7",
                                    "OrderDate": "1997-01-23",
                                    "ShipperID": "2"
                                },
                                {
                                    "OrderID": "10425",
                                    "CustomerID": "41",
                                    "EmployeeID": "6",
                                    "OrderDate": "1997-01-24",
                                    "ShipperID": "2"
                                },
                                {
                                    "OrderID": "10426",
                                    "CustomerID": "29",
                                    "EmployeeID": "4",
                                    "OrderDate": "1997-01-27",
                                    "ShipperID": "1"
                                },
                                {
                                    "OrderID": "10427",
                                    "CustomerID": "59",
                                    "EmployeeID": "4",
                                    "OrderDate": "1997-01-27",
                                    "ShipperID": "2"
                                },
                                {
                                    "OrderID": "10428",
                                    "CustomerID": "66",
                                    "EmployeeID": "7",
                                    "OrderDate": "1997-01-28",
                                    "ShipperID": "1"
                                },
                                {
                                    "OrderID": "10429",
                                    "CustomerID": "37",
                                    "EmployeeID": "3",
                                    "OrderDate": "1997-01-29",
                                    "ShipperID": "2"
                                },
                                {
                                    "OrderID": "10430",
                                    "CustomerID": "20",
                                    "EmployeeID": "4",
                                    "OrderDate": "1997-01-30",
                                    "ShipperID": "1"
                                },
                                {
                                    "OrderID": "10431",
                                    "CustomerID": "10",
                                    "EmployeeID": "4",
                                    "OrderDate": "1997-01-30",
                                    "ShipperID": "2"
                                },
                                {
                                    "OrderID": "10432",
                                    "CustomerID": "75",
                                    "EmployeeID": "3",
                                    "OrderDate": "1997-01-31",
                                    "ShipperID": "2"
                                },
                                {
                                    "OrderID": "10433",
                                    "CustomerID": "60",
                                    "EmployeeID": "3",
                                    "OrderDate": "1997-02-03",
                                    "ShipperID": "3"
                                },
                                {
                                    "OrderID": "10434",
                                    "CustomerID": "24",
                                    "EmployeeID": "3",
                                    "OrderDate": "1997-02-03",
                                    "ShipperID": "2"
                                },
                                {
                                    "OrderID": "10435",
                                    "CustomerID": "16",
                                    "EmployeeID": "8",
                                    "OrderDate": "1997-02-04",
                                    "ShipperID": "2"
                                },
                                {
                                    "OrderID": "10436",
                                    "CustomerID": "7",
                                    "EmployeeID": "3",
                                    "OrderDate": "1997-02-05",
                                    "ShipperID": "2"
                                },
                                {
                                    "OrderID": "10437",
                                    "CustomerID": "87",
                                    "EmployeeID": "8",
                                    "OrderDate": "1997-02-05",
                                    "ShipperID": "1"
                                },
                                {
                                    "OrderID": "10438",
                                    "CustomerID": "79",
                                    "EmployeeID": "3",
                                    "OrderDate": "1997-02-06",
                                    "ShipperID": "2"
                                },
                                {
                                    "OrderID": "10439",
                                    "CustomerID": "51",
                                    "EmployeeID": "6",
                                    "OrderDate": "1997-02-07",
                                    "ShipperID": "3"
                                },
                                {
                                    "OrderID": "10440",
                                    "CustomerID": "71",
                                    "EmployeeID": "4",
                                    "OrderDate": "1997-02-10",
                                    "ShipperID": "2"
                                },
                                {
                                    "OrderID": "10441",
                                    "CustomerID": "55",
                                    "EmployeeID": "3",
                                    "OrderDate": "1997-02-10",
                                    "ShipperID": "2"
                                },
                                {
                                    "OrderID": "10442",
                                    "CustomerID": "20",
                                    "EmployeeID": "3",
                                    "OrderDate": "1997-02-11",
                                    "ShipperID": "2"
                                },
                                {
                                    "OrderID": "10443",
                                    "CustomerID": "66",
                                    "EmployeeID": "8",
                                    "OrderDate": "1997-02-12",
                                    "ShipperID": "1"
                                }
                            ]
                        },
                        "text/html": "<table><tr><th>OrderID</th><th>CustomerID</th><th>EmployeeID</th><th>OrderDate</th><th>ShipperID</th></tr><tr><td>10252</td><td>76</td><td>4</td><td>1996-07-09</td><td>2</td></tr><tr><td>10253</td><td>34</td><td>3</td><td>1996-07-10</td><td>2</td></tr><tr><td>10254</td><td>14</td><td>5</td><td>1996-07-11</td><td>2</td></tr><tr><td>10255</td><td>68</td><td>9</td><td>1996-07-12</td><td>3</td></tr><tr><td>10256</td><td>88</td><td>3</td><td>1996-07-15</td><td>2</td></tr><tr><td>10257</td><td>35</td><td>4</td><td>1996-07-16</td><td>3</td></tr><tr><td>10258</td><td>20</td><td>1</td><td>1996-07-17</td><td>1</td></tr><tr><td>10259</td><td>13</td><td>4</td><td>1996-07-18</td><td>3</td></tr><tr><td>10260</td><td>55</td><td>4</td><td>1996-07-19</td><td>1</td></tr><tr><td>10261</td><td>61</td><td>4</td><td>1996-07-19</td><td>2</td></tr><tr><td>10262</td><td>65</td><td>8</td><td>1996-07-22</td><td>3</td></tr><tr><td>10263</td><td>20</td><td>9</td><td>1996-07-23</td><td>3</td></tr><tr><td>10264</td><td>24</td><td>6</td><td>1996-07-24</td><td>3</td></tr><tr><td>10265</td><td>7</td><td>2</td><td>1996-07-25</td><td>1</td></tr><tr><td>10266</td><td>87</td><td>3</td><td>1996-07-26</td><td>3</td></tr><tr><td>10267</td><td>25</td><td>4</td><td>1996-07-29</td><td>1</td></tr><tr><td>10268</td><td>33</td><td>8</td><td>1996-07-30</td><td>3</td></tr><tr><td>10269</td><td>89</td><td>5</td><td>1996-07-31</td><td>1</td></tr><tr><td>10270</td><td>87</td><td>1</td><td>1996-08-01</td><td>1</td></tr><tr><td>10271</td><td>75</td><td>6</td><td>1996-08-01</td><td>2</td></tr><tr><td>10272</td><td>65</td><td>6</td><td>1996-08-02</td><td>2</td></tr><tr><td>10273</td><td>63</td><td>3</td><td>1996-08-05</td><td>3</td></tr><tr><td>10274</td><td>85</td><td>6</td><td>1996-08-06</td><td>1</td></tr><tr><td>10275</td><td>49</td><td>1</td><td>1996-08-07</td><td>1</td></tr><tr><td>10276</td><td>80</td><td>8</td><td>1996-08-08</td><td>3</td></tr><tr><td>10277</td><td>52</td><td>2</td><td>1996-08-09</td><td>3</td></tr><tr><td>10278</td><td>5</td><td>8</td><td>1996-08-12</td><td>2</td></tr><tr><td>10279</td><td>44</td><td>8</td><td>1996-08-13</td><td>2</td></tr><tr><td>10280</td><td>5</td><td>2</td><td>1996-08-14</td><td>1</td></tr><tr><td>10281</td><td>69</td><td>4</td><td>1996-08-14</td><td>1</td></tr><tr><td>10282</td><td>69</td><td>4</td><td>1996-08-15</td><td>1</td></tr><tr><td>10283</td><td>46</td><td>3</td><td>1996-08-16</td><td>3</td></tr><tr><td>10284</td><td>44</td><td>4</td><td>1996-08-19</td><td>1</td></tr><tr><td>10285</td><td>63</td><td>1</td><td>1996-08-20</td><td>2</td></tr><tr><td>10286</td><td>63</td><td>8</td><td>1996-08-21</td><td>3</td></tr><tr><td>10287</td><td>67</td><td>8</td><td>1996-08-22</td><td>3</td></tr><tr><td>10288</td><td>66</td><td>4</td><td>1996-08-23</td><td>1</td></tr><tr><td>10289</td><td>11</td><td>7</td><td>1996-08-26</td><td>3</td></tr><tr><td>10290</td><td>15</td><td>8</td><td>1996-08-27</td><td>1</td></tr><tr><td>10291</td><td>61</td><td>6</td><td>1996-08-27</td><td>2</td></tr><tr><td>10292</td><td>81</td><td>1</td><td>1996-08-28</td><td>2</td></tr><tr><td>10293</td><td>80</td><td>1</td><td>1996-08-29</td><td>3</td></tr><tr><td>10294</td><td>65</td><td>4</td><td>1996-08-30</td><td>2</td></tr><tr><td>10295</td><td>85</td><td>2</td><td>1996-09-02</td><td>2</td></tr><tr><td>10296</td><td>46</td><td>6</td><td>1996-09-03</td><td>1</td></tr><tr><td>10297</td><td>7</td><td>5</td><td>1996-09-04</td><td>2</td></tr><tr><td>10298</td><td>37</td><td>6</td><td>1996-09-05</td><td>2</td></tr><tr><td>10299</td><td>67</td><td>4</td><td>1996-09-06</td><td>2</td></tr><tr><td>10300</td><td>49</td><td>2</td><td>1996-09-09</td><td>2</td></tr><tr><td>10301</td><td>86</td><td>8</td><td>1996-09-09</td><td>2</td></tr><tr><td>10302</td><td>76</td><td>4</td><td>1996-09-10</td><td>2</td></tr><tr><td>10303</td><td>30</td><td>7</td><td>1996-09-11</td><td>2</td></tr><tr><td>10304</td><td>80</td><td>1</td><td>1996-09-12</td><td>2</td></tr><tr><td>10305</td><td>55</td><td>8</td><td>1996-09-13</td><td>3</td></tr><tr><td>10306</td><td>69</td><td>1</td><td>1996-09-16</td><td>3</td></tr><tr><td>10307</td><td>48</td><td>2</td><td>1996-09-17</td><td>2</td></tr><tr><td>10308</td><td>2</td><td>7</td><td>1996-09-18</td><td>3</td></tr><tr><td>10309</td><td>37</td><td>3</td><td>1996-09-19</td><td>1</td></tr><tr><td>10310</td><td>77</td><td>8</td><td>1996-09-20</td><td>2</td></tr><tr><td>10311</td><td>18</td><td>1</td><td>1996-09-20</td><td>3</td></tr><tr><td>10312</td><td>86</td><td>2</td><td>1996-09-23</td><td>2</td></tr><tr><td>10313</td><td>63</td><td>2</td><td>1996-09-24</td><td>2</td></tr><tr><td>10314</td><td>65</td><td>1</td><td>1996-09-25</td><td>2</td></tr><tr><td>10315</td><td>38</td><td>4</td><td>1996-09-26</td><td>2</td></tr><tr><td>10316</td><td>65</td><td>1</td><td>1996-09-27</td><td>3</td></tr><tr><td>10317</td><td>48</td><td>6</td><td>1996-09-30</td><td>1</td></tr><tr><td>10318</td><td>38</td><td>8</td><td>1996-10-01</td><td>2</td></tr><tr><td>10319</td><td>80</td><td>7</td><td>1996-10-02</td><td>3</td></tr><tr><td>10320</td><td>87</td><td>5</td><td>1996-10-03</td><td>3</td></tr><tr><td>10321</td><td>38</td><td>3</td><td>1996-10-03</td><td>2</td></tr><tr><td>10322</td><td>58</td><td>7</td><td>1996-10-04</td><td>3</td></tr><tr><td>10323</td><td>39</td><td>4</td><td>1996-10-07</td><td>1</td></tr><tr><td>10324</td><td>71</td><td>9</td><td>1996-10-08</td><td>1</td></tr><tr><td>10325</td><td>39</td><td>1</td><td>1996-10-09</td><td>3</td></tr><tr><td>10326</td><td>8</td><td>4</td><td>1996-10-10</td><td>2</td></tr><tr><td>10327</td><td>24</td><td>2</td><td>1996-10-11</td><td>1</td></tr><tr><td>10328</td><td>28</td><td>4</td><td>1996-10-14</td><td>3</td></tr><tr><td>10329</td><td>75</td><td>4</td><td>1996-10-15</td><td>2</td></tr><tr><td>10330</td><td>46</td><td>3</td><td>1996-10-16</td><td>1</td></tr><tr><td>10331</td><td>9</td><td>9</td><td>1996-10-16</td><td>1</td></tr><tr><td>10332</td><td>51</td><td>3</td><td>1996-10-17</td><td>2</td></tr><tr><td>10333</td><td>87</td><td>5</td><td>1996-10-18</td><td>3</td></tr><tr><td>10334</td><td>84</td><td>8</td><td>1996-10-21</td><td>2</td></tr><tr><td>10335</td><td>37</td><td>7</td><td>1996-10-22</td><td>2</td></tr><tr><td>10336</td><td>60</td><td>7</td><td>1996-10-23</td><td>2</td></tr><tr><td>10337</td><td>25</td><td>4</td><td>1996-10-24</td><td>3</td></tr><tr><td>10338</td><td>55</td><td>4</td><td>1996-10-25</td><td>3</td></tr><tr><td>10339</td><td>51</td><td>2</td><td>1996-10-28</td><td>2</td></tr><tr><td>10340</td><td>9</td><td>1</td><td>1996-10-29</td><td>3</td></tr><tr><td>10341</td><td>73</td><td>7</td><td>1996-10-29</td><td>3</td></tr><tr><td>10342</td><td>25</td><td>4</td><td>1996-10-30</td><td>2</td></tr><tr><td>10343</td><td>44</td><td>4</td><td>1996-10-31</td><td>1</td></tr><tr><td>10344</td><td>89</td><td>4</td><td>1996-11-01</td><td>2</td></tr><tr><td>10345</td><td>63</td><td>2</td><td>1996-11-04</td><td>2</td></tr><tr><td>10346</td><td>65</td><td>3</td><td>1996-11-05</td><td>3</td></tr><tr><td>10347</td><td>21</td><td>4</td><td>1996-11-06</td><td>3</td></tr><tr><td>10348</td><td>86</td><td>4</td><td>1996-11-07</td><td>2</td></tr><tr><td>10349</td><td>75</td><td>7</td><td>1996-11-08</td><td>1</td></tr><tr><td>10350</td><td>41</td><td>6</td><td>1996-11-11</td><td>2</td></tr><tr><td>10351</td><td>20</td><td>1</td><td>1996-11-11</td><td>1</td></tr><tr><td>10352</td><td>28</td><td>3</td><td>1996-11-12</td><td>3</td></tr><tr><td>10353</td><td>59</td><td>7</td><td>1996-11-13</td><td>3</td></tr><tr><td>10354</td><td>58</td><td>8</td><td>1996-11-14</td><td>3</td></tr><tr><td>10355</td><td>4</td><td>6</td><td>1996-11-15</td><td>1</td></tr><tr><td>10356</td><td>86</td><td>6</td><td>1996-11-18</td><td>2</td></tr><tr><td>10357</td><td>46</td><td>1</td><td>1996-11-19</td><td>3</td></tr><tr><td>10358</td><td>41</td><td>5</td><td>1996-11-20</td><td>1</td></tr><tr><td>10359</td><td>72</td><td>5</td><td>1996-11-21</td><td>3</td></tr><tr><td>10360</td><td>7</td><td>4</td><td>1996-11-22</td><td>3</td></tr><tr><td>10361</td><td>63</td><td>1</td><td>1996-11-22</td><td>2</td></tr><tr><td>10362</td><td>9</td><td>3</td><td>1996-11-25</td><td>1</td></tr><tr><td>10363</td><td>17</td><td>4</td><td>1996-11-26</td><td>3</td></tr><tr><td>10364</td><td>19</td><td>1</td><td>1996-11-26</td><td>1</td></tr><tr><td>10365</td><td>3</td><td>3</td><td>1996-11-27</td><td>2</td></tr><tr><td>10366</td><td>29</td><td>8</td><td>1996-11-28</td><td>2</td></tr><tr><td>10367</td><td>83</td><td>7</td><td>1996-11-28</td><td>3</td></tr><tr><td>10368</td><td>20</td><td>2</td><td>1996-11-29</td><td>2</td></tr><tr><td>10369</td><td>75</td><td>8</td><td>1996-12-02</td><td>2</td></tr><tr><td>10370</td><td>14</td><td>6</td><td>1996-12-03</td><td>2</td></tr><tr><td>10371</td><td>41</td><td>1</td><td>1996-12-03</td><td>1</td></tr><tr><td>10372</td><td>62</td><td>5</td><td>1996-12-04</td><td>2</td></tr><tr><td>10373</td><td>37</td><td>4</td><td>1996-12-05</td><td>3</td></tr><tr><td>10374</td><td>91</td><td>1</td><td>1996-12-05</td><td>3</td></tr><tr><td>10375</td><td>36</td><td>3</td><td>1996-12-06</td><td>2</td></tr><tr><td>10376</td><td>51</td><td>1</td><td>1996-12-09</td><td>2</td></tr><tr><td>10377</td><td>72</td><td>1</td><td>1996-12-09</td><td>3</td></tr><tr><td>10378</td><td>24</td><td>5</td><td>1996-12-10</td><td>3</td></tr><tr><td>10379</td><td>61</td><td>2</td><td>1996-12-11</td><td>1</td></tr><tr><td>10380</td><td>37</td><td>8</td><td>1996-12-12</td><td>3</td></tr><tr><td>10381</td><td>46</td><td>3</td><td>1996-12-12</td><td>3</td></tr><tr><td>10382</td><td>20</td><td>4</td><td>1996-12-13</td><td>1</td></tr><tr><td>10383</td><td>4</td><td>8</td><td>1996-12-16</td><td>3</td></tr><tr><td>10384</td><td>5</td><td>3</td><td>1996-12-16</td><td>3</td></tr><tr><td>10385</td><td>75</td><td>1</td><td>1996-12-17</td><td>2</td></tr><tr><td>10386</td><td>21</td><td>9</td><td>1996-12-18</td><td>3</td></tr><tr><td>10387</td><td>70</td><td>1</td><td>1996-12-18</td><td>2</td></tr><tr><td>10388</td><td>72</td><td>2</td><td>1996-12-19</td><td>1</td></tr><tr><td>10389</td><td>10</td><td>4</td><td>1996-12-20</td><td>2</td></tr><tr><td>10390</td><td>20</td><td>6</td><td>1996-12-23</td><td>1</td></tr><tr><td>10391</td><td>17</td><td>3</td><td>1996-12-23</td><td>3</td></tr><tr><td>10392</td><td>59</td><td>2</td><td>1996-12-24</td><td>3</td></tr><tr><td>10393</td><td>71</td><td>1</td><td>1996-12-25</td><td>3</td></tr><tr><td>10394</td><td>36</td><td>1</td><td>1996-12-25</td><td>3</td></tr><tr><td>10395</td><td>35</td><td>6</td><td>1996-12-26</td><td>1</td></tr><tr><td>10396</td><td>25</td><td>1</td><td>1996-12-27</td><td>3</td></tr><tr><td>10397</td><td>60</td><td>5</td><td>1996-12-27</td><td>1</td></tr><tr><td>10398</td><td>71</td><td>2</td><td>1996-12-30</td><td>3</td></tr><tr><td>10399</td><td>83</td><td>8</td><td>1996-12-31</td><td>3</td></tr><tr><td>10400</td><td>19</td><td>1</td><td>1997-01-01</td><td>3</td></tr><tr><td>10401</td><td>65</td><td>1</td><td>1997-01-01</td><td>1</td></tr><tr><td>10402</td><td>20</td><td>8</td><td>1997-01-02</td><td>2</td></tr><tr><td>10403</td><td>20</td><td>4</td><td>1997-01-03</td><td>3</td></tr><tr><td>10404</td><td>49</td><td>2</td><td>1997-01-03</td><td>1</td></tr><tr><td>10405</td><td>47</td><td>1</td><td>1997-01-06</td><td>1</td></tr><tr><td>10406</td><td>62</td><td>7</td><td>1997-01-07</td><td>1</td></tr><tr><td>10407</td><td>56</td><td>2</td><td>1997-01-07</td><td>2</td></tr><tr><td>10408</td><td>23</td><td>8</td><td>1997-01-08</td><td>1</td></tr><tr><td>10409</td><td>54</td><td>3</td><td>1997-01-09</td><td>1</td></tr><tr><td>10410</td><td>10</td><td>3</td><td>1997-01-10</td><td>3</td></tr><tr><td>10411</td><td>10</td><td>9</td><td>1997-01-10</td><td>3</td></tr><tr><td>10412</td><td>87</td><td>8</td><td>1997-01-13</td><td>2</td></tr><tr><td>10413</td><td>41</td><td>3</td><td>1997-01-14</td><td>2</td></tr><tr><td>10414</td><td>21</td><td>2</td><td>1997-01-14</td><td>3</td></tr><tr><td>10415</td><td>36</td><td>3</td><td>1997-01-15</td><td>1</td></tr><tr><td>10416</td><td>87</td><td>8</td><td>1997-01-16</td><td>3</td></tr><tr><td>10417</td><td>73</td><td>4</td><td>1997-01-16</td><td>3</td></tr><tr><td>10418</td><td>63</td><td>4</td><td>1997-01-17</td><td>1</td></tr><tr><td>10419</td><td>68</td><td>4</td><td>1997-01-20</td><td>2</td></tr><tr><td>10420</td><td>88</td><td>3</td><td>1997-01-21</td><td>1</td></tr><tr><td>10421</td><td>61</td><td>8</td><td>1997-01-21</td><td>1</td></tr><tr><td>10422</td><td>27</td><td>2</td><td>1997-01-22</td><td>1</td></tr><tr><td>10423</td><td>31</td><td>6</td><td>1997-01-23</td><td>3</td></tr><tr><td>10424</td><td>51</td><td>7</td><td>1997-01-23</td><td>2</td></tr><tr><td>10425</td><td>41</td><td>6</td><td>1997-01-24</td><td>2</td></tr><tr><td>10426</td><td>29</td><td>4</td><td>1997-01-27</td><td>1</td></tr><tr><td>10427</td><td>59</td><td>4</td><td>1997-01-27</td><td>2</td></tr><tr><td>10428</td><td>66</td><td>7</td><td>1997-01-28</td><td>1</td></tr><tr><td>10429</td><td>37</td><td>3</td><td>1997-01-29</td><td>2</td></tr><tr><td>10430</td><td>20</td><td>4</td><td>1997-01-30</td><td>1</td></tr><tr><td>10431</td><td>10</td><td>4</td><td>1997-01-30</td><td>2</td></tr><tr><td>10432</td><td>75</td><td>3</td><td>1997-01-31</td><td>2</td></tr><tr><td>10433</td><td>60</td><td>3</td><td>1997-02-03</td><td>3</td></tr><tr><td>10434</td><td>24</td><td>3</td><td>1997-02-03</td><td>2</td></tr><tr><td>10435</td><td>16</td><td>8</td><td>1997-02-04</td><td>2</td></tr><tr><td>10436</td><td>7</td><td>3</td><td>1997-02-05</td><td>2</td></tr><tr><td>10437</td><td>87</td><td>8</td><td>1997-02-05</td><td>1</td></tr><tr><td>10438</td><td>79</td><td>3</td><td>1997-02-06</td><td>2</td></tr><tr><td>10439</td><td>51</td><td>6</td><td>1997-02-07</td><td>3</td></tr><tr><td>10440</td><td>71</td><td>4</td><td>1997-02-10</td><td>2</td></tr><tr><td>10441</td><td>55</td><td>3</td><td>1997-02-10</td><td>2</td></tr><tr><td>10442</td><td>20</td><td>3</td><td>1997-02-11</td><td>2</td></tr><tr><td>10443</td><td>66</td><td>8</td><td>1997-02-12</td><td>1</td></tr></table>"
                    },
                    "metadata": {}
                }
            ],
            "execution_count": 40
        },
        {
            "cell_type": "markdown",
            "source": [
                "### **Limit the Number of Rows Returned**"
            ],
            "metadata": {
                "azdata_cell_guid": "72313508-7991-4011-a9ee-570dff5f2cb3"
            },
            "attachments": {}
        },
        {
            "cell_type": "code",
            "source": [
                "SELECT TOP 5 * \r\n",
                "FROM dbo.Orders;\r\n",
                ""
            ],
            "metadata": {
                "azdata_cell_guid": "e1a97850-0dcf-49d9-b692-1debeff4e845",
                "language": "sql"
            },
            "outputs": [
                {
                    "output_type": "display_data",
                    "data": {
                        "text/html": "(5 rows affected)"
                    },
                    "metadata": {}
                },
                {
                    "output_type": "display_data",
                    "data": {
                        "text/html": "Total execution time: 00:00:00.004"
                    },
                    "metadata": {}
                },
                {
                    "output_type": "execute_result",
                    "execution_count": 41,
                    "data": {
                        "application/vnd.dataresource+json": {
                            "schema": {
                                "fields": [
                                    {
                                        "name": "OrderID"
                                    },
                                    {
                                        "name": "CustomerID"
                                    },
                                    {
                                        "name": "EmployeeID"
                                    },
                                    {
                                        "name": "OrderDate"
                                    },
                                    {
                                        "name": "ShipperID"
                                    }
                                ]
                            },
                            "data": [
                                {
                                    "OrderID": "10248",
                                    "CustomerID": "90",
                                    "EmployeeID": "5",
                                    "OrderDate": "1996-07-04",
                                    "ShipperID": "3"
                                },
                                {
                                    "OrderID": "10249",
                                    "CustomerID": "81",
                                    "EmployeeID": "6",
                                    "OrderDate": "1996-07-05",
                                    "ShipperID": "1"
                                },
                                {
                                    "OrderID": "10250",
                                    "CustomerID": "34",
                                    "EmployeeID": "4",
                                    "OrderDate": "1996-07-08",
                                    "ShipperID": "2"
                                },
                                {
                                    "OrderID": "10251",
                                    "CustomerID": "84",
                                    "EmployeeID": "3",
                                    "OrderDate": "1996-07-08",
                                    "ShipperID": "1"
                                },
                                {
                                    "OrderID": "10252",
                                    "CustomerID": "76",
                                    "EmployeeID": "4",
                                    "OrderDate": "1996-07-09",
                                    "ShipperID": "2"
                                }
                            ]
                        },
                        "text/html": "<table><tr><th>OrderID</th><th>CustomerID</th><th>EmployeeID</th><th>OrderDate</th><th>ShipperID</th></tr><tr><td>10248</td><td>90</td><td>5</td><td>1996-07-04</td><td>3</td></tr><tr><td>10249</td><td>81</td><td>6</td><td>1996-07-05</td><td>1</td></tr><tr><td>10250</td><td>34</td><td>4</td><td>1996-07-08</td><td>2</td></tr><tr><td>10251</td><td>84</td><td>3</td><td>1996-07-08</td><td>1</td></tr><tr><td>10252</td><td>76</td><td>4</td><td>1996-07-09</td><td>2</td></tr></table>"
                    },
                    "metadata": {}
                }
            ],
            "execution_count": 41
        },
        {
            "cell_type": "markdown",
            "source": [
                "### **ORDER BY to Sort Results**"
            ],
            "metadata": {
                "language": "sql",
                "azdata_cell_guid": "d8eb3bc6-a518-4ab4-8d3d-b7cc86d09acc"
            },
            "attachments": {}
        },
        {
            "cell_type": "code",
            "source": [
                "SELECT top 5 * \r\n",
                "FROM dbo.Products\r\n",
                "ORDER BY Price DESC;\r\n",
                ""
            ],
            "metadata": {
                "azdata_cell_guid": "05ae5157-88d0-42f7-9e12-5dece7b55f0a",
                "language": "sql"
            },
            "outputs": [
                {
                    "output_type": "display_data",
                    "data": {
                        "text/html": "(5 rows affected)"
                    },
                    "metadata": {}
                },
                {
                    "output_type": "display_data",
                    "data": {
                        "text/html": "Total execution time: 00:00:00.004"
                    },
                    "metadata": {}
                },
                {
                    "output_type": "execute_result",
                    "execution_count": 42,
                    "data": {
                        "application/vnd.dataresource+json": {
                            "schema": {
                                "fields": [
                                    {
                                        "name": "ProductID"
                                    },
                                    {
                                        "name": "ProductName"
                                    },
                                    {
                                        "name": "SupplierID"
                                    },
                                    {
                                        "name": "CategoryID"
                                    },
                                    {
                                        "name": "Unit"
                                    },
                                    {
                                        "name": "Price"
                                    }
                                ]
                            },
                            "data": [
                                {
                                    "ProductID": "38",
                                    "ProductName": "Côte de Blaye ",
                                    "SupplierID": "18",
                                    "CategoryID": "1",
                                    "Unit": "NULL",
                                    "Price": "263.50"
                                },
                                {
                                    "ProductID": "29",
                                    "ProductName": "Thüringer Rostbratwurst ",
                                    "SupplierID": "12",
                                    "CategoryID": "6",
                                    "Unit": "NULL",
                                    "Price": "123.79"
                                },
                                {
                                    "ProductID": "9",
                                    "ProductName": "Mishi Kobe Niku ",
                                    "SupplierID": "4",
                                    "CategoryID": "6",
                                    "Unit": "NULL",
                                    "Price": "97.00"
                                },
                                {
                                    "ProductID": "20",
                                    "ProductName": "Sir Rodney's Marmalade ",
                                    "SupplierID": "8",
                                    "CategoryID": "3",
                                    "Unit": "NULL",
                                    "Price": "81.00"
                                },
                                {
                                    "ProductID": "18",
                                    "ProductName": "Carnarvon Tigers ",
                                    "SupplierID": "7",
                                    "CategoryID": "8",
                                    "Unit": "NULL",
                                    "Price": "62.50"
                                }
                            ]
                        },
                        "text/html": "<table><tr><th>ProductID</th><th>ProductName</th><th>SupplierID</th><th>CategoryID</th><th>Unit</th><th>Price</th></tr><tr><td>38</td><td>Côte de Blaye </td><td>18</td><td>1</td><td>NULL</td><td>263.50</td></tr><tr><td>29</td><td>Thüringer Rostbratwurst </td><td>12</td><td>6</td><td>NULL</td><td>123.79</td></tr><tr><td>9</td><td>Mishi Kobe Niku </td><td>4</td><td>6</td><td>NULL</td><td>97.00</td></tr><tr><td>20</td><td>Sir Rodney&#39;s Marmalade </td><td>8</td><td>3</td><td>NULL</td><td>81.00</td></tr><tr><td>18</td><td>Carnarvon Tigers </td><td>7</td><td>8</td><td>NULL</td><td>62.50</td></tr></table>"
                    },
                    "metadata": {}
                }
            ],
            "execution_count": 42
        },
        {
            "cell_type": "markdown",
            "source": [
                "### **JOIN Multiple Tables**"
            ],
            "metadata": {
                "language": "sql",
                "azdata_cell_guid": "70f2ac76-69a3-44cf-8e1b-4212067d9fc8"
            },
            "attachments": {}
        },
        {
            "cell_type": "code",
            "source": [
                "SELECT top 5 o.OrderID, c.CustomerName, e.LastName \r\n",
                "FROM dbo.Orders o\r\n",
                "JOIN dbo.Customers c ON o.CustomerID = c.CustomerID\r\n",
                "JOIN dbo.Employees e ON o.EmployeeID = e.EmployeeID;\r\n",
                ""
            ],
            "metadata": {
                "azdata_cell_guid": "00f6734e-5b3c-4e3a-a889-02b3b99b611d",
                "language": "sql"
            },
            "outputs": [
                {
                    "output_type": "display_data",
                    "data": {
                        "text/html": "(5 rows affected)"
                    },
                    "metadata": {}
                },
                {
                    "output_type": "display_data",
                    "data": {
                        "text/html": "Total execution time: 00:00:00.003"
                    },
                    "metadata": {}
                },
                {
                    "output_type": "execute_result",
                    "execution_count": 43,
                    "data": {
                        "application/vnd.dataresource+json": {
                            "schema": {
                                "fields": [
                                    {
                                        "name": "OrderID"
                                    },
                                    {
                                        "name": "CustomerName"
                                    },
                                    {
                                        "name": "LastName"
                                    }
                                ]
                            },
                            "data": [
                                {
                                    "OrderID": "10248",
                                    "CustomerName": "Wilman Kala ",
                                    "LastName": "Buchanan "
                                },
                                {
                                    "OrderID": "10249",
                                    "CustomerName": "Tradição Hipermercados ",
                                    "LastName": "Suyama "
                                },
                                {
                                    "OrderID": "10250",
                                    "CustomerName": "Hanari Carnes ",
                                    "LastName": "Peacock "
                                },
                                {
                                    "OrderID": "10251",
                                    "CustomerName": "Victuailles en stock ",
                                    "LastName": "Leverling "
                                },
                                {
                                    "OrderID": "10252",
                                    "CustomerName": "Suprêmes délices ",
                                    "LastName": "Peacock "
                                }
                            ]
                        },
                        "text/html": "<table><tr><th>OrderID</th><th>CustomerName</th><th>LastName</th></tr><tr><td>10248</td><td>Wilman Kala </td><td>Buchanan </td></tr><tr><td>10249</td><td>Tradição Hipermercados </td><td>Suyama </td></tr><tr><td>10250</td><td>Hanari Carnes </td><td>Peacock </td></tr><tr><td>10251</td><td>Victuailles en stock </td><td>Leverling </td></tr><tr><td>10252</td><td>Suprêmes délices </td><td>Peacock </td></tr></table>"
                    },
                    "metadata": {}
                }
            ],
            "execution_count": 43
        },
        {
            "cell_type": "markdown",
            "source": [
                "### **Use INNER JOIN for Matching Data**"
            ],
            "metadata": {
                "language": "sql",
                "azdata_cell_guid": "19144afc-b370-4d1b-92f1-6b2af75c99ea"
            },
            "attachments": {}
        },
        {
            "cell_type": "code",
            "source": [
                "SELECT top 5 p.ProductName, c.CategoryName \r\n",
                "FROM dbo.Products p \r\n",
                "INNER JOIN dbo.Categories c ON p.CategoryID = c.CategoryID;\r\n",
                ""
            ],
            "metadata": {
                "azdata_cell_guid": "c56ab280-bc58-4cdc-8a04-0c86e479638c",
                "language": "sql"
            },
            "outputs": [
                {
                    "output_type": "display_data",
                    "data": {
                        "text/html": "(5 rows affected)"
                    },
                    "metadata": {}
                },
                {
                    "output_type": "display_data",
                    "data": {
                        "text/html": "Total execution time: 00:00:00.011"
                    },
                    "metadata": {}
                },
                {
                    "output_type": "execute_result",
                    "execution_count": 44,
                    "data": {
                        "application/vnd.dataresource+json": {
                            "schema": {
                                "fields": [
                                    {
                                        "name": "ProductName"
                                    },
                                    {
                                        "name": "CategoryName"
                                    }
                                ]
                            },
                            "data": [
                                {
                                    "ProductName": "Chais ",
                                    "CategoryName": "Beverages "
                                },
                                {
                                    "ProductName": "Chang ",
                                    "CategoryName": "Beverages "
                                },
                                {
                                    "ProductName": "Aniseed Syrup ",
                                    "CategoryName": "Condiments "
                                },
                                {
                                    "ProductName": "Chef Anton's Cajun Seasoning ",
                                    "CategoryName": "Condiments "
                                },
                                {
                                    "ProductName": "Chef Anton's Gumbo Mix ",
                                    "CategoryName": "Condiments "
                                }
                            ]
                        },
                        "text/html": "<table><tr><th>ProductName</th><th>CategoryName</th></tr><tr><td>Chais </td><td>Beverages </td></tr><tr><td>Chang </td><td>Beverages </td></tr><tr><td>Aniseed Syrup </td><td>Condiments </td></tr><tr><td>Chef Anton&#39;s Cajun Seasoning </td><td>Condiments </td></tr><tr><td>Chef Anton&#39;s Gumbo Mix </td><td>Condiments </td></tr></table>"
                    },
                    "metadata": {}
                }
            ],
            "execution_count": 44
        },
        {
            "cell_type": "markdown",
            "source": [
                "### **LEFT JOIN to Include Non-Matching Data**"
            ],
            "metadata": {
                "language": "sql",
                "azdata_cell_guid": "900bcc50-c12c-4fba-9110-7b15a86b5a47"
            },
            "attachments": {}
        },
        {
            "cell_type": "code",
            "source": [
                "SELECT top 5 p.ProductName, s.SupplierName \r\n",
                "FROM dbo.Products p\r\n",
                "LEFT JOIN dbo.Suppliers s ON p.SupplierID = s.SupplierID;\r\n",
                ""
            ],
            "metadata": {
                "azdata_cell_guid": "439aadaa-a7d9-42f9-a6cb-14ef261d91d7",
                "language": "sql"
            },
            "outputs": [
                {
                    "output_type": "display_data",
                    "data": {
                        "text/html": "(5 rows affected)"
                    },
                    "metadata": {}
                },
                {
                    "output_type": "display_data",
                    "data": {
                        "text/html": "Total execution time: 00:00:00.004"
                    },
                    "metadata": {}
                },
                {
                    "output_type": "execute_result",
                    "execution_count": 45,
                    "data": {
                        "application/vnd.dataresource+json": {
                            "schema": {
                                "fields": [
                                    {
                                        "name": "ProductName"
                                    },
                                    {
                                        "name": "SupplierName"
                                    }
                                ]
                            },
                            "data": [
                                {
                                    "ProductName": "Chais ",
                                    "SupplierName": "Exotic Liquid "
                                },
                                {
                                    "ProductName": "Chang ",
                                    "SupplierName": "Exotic Liquid "
                                },
                                {
                                    "ProductName": "Aniseed Syrup ",
                                    "SupplierName": "Exotic Liquid "
                                },
                                {
                                    "ProductName": "Chef Anton's Cajun Seasoning ",
                                    "SupplierName": "New Orleans Cajun Delights "
                                },
                                {
                                    "ProductName": "Chef Anton's Gumbo Mix ",
                                    "SupplierName": "New Orleans Cajun Delights "
                                }
                            ]
                        },
                        "text/html": "<table><tr><th>ProductName</th><th>SupplierName</th></tr><tr><td>Chais </td><td>Exotic Liquid </td></tr><tr><td>Chang </td><td>Exotic Liquid </td></tr><tr><td>Aniseed Syrup </td><td>Exotic Liquid </td></tr><tr><td>Chef Anton&#39;s Cajun Seasoning </td><td>New Orleans Cajun Delights </td></tr><tr><td>Chef Anton&#39;s Gumbo Mix </td><td>New Orleans Cajun Delights </td></tr></table>"
                    },
                    "metadata": {}
                }
            ],
            "execution_count": 45
        },
        {
            "cell_type": "markdown",
            "source": [
                "### **Use GROUP BY to Aggregate Data**"
            ],
            "metadata": {
                "language": "sql",
                "azdata_cell_guid": "36fb26fa-e6d2-4bdd-bb5e-07693b12aac8"
            },
            "attachments": {}
        },
        {
            "cell_type": "code",
            "source": [
                "SELECT top 5 Country, COUNT(*) AS CustomerCount \r\n",
                "FROM dbo.Customers \r\n",
                "GROUP BY Country;\r\n",
                ""
            ],
            "metadata": {
                "azdata_cell_guid": "a7a00aed-e571-4b1c-9c5a-29ca08f37f0c",
                "language": "sql"
            },
            "outputs": [
                {
                    "output_type": "display_data",
                    "data": {
                        "text/html": "(5 rows affected)"
                    },
                    "metadata": {}
                },
                {
                    "output_type": "display_data",
                    "data": {
                        "text/html": "Total execution time: 00:00:00.004"
                    },
                    "metadata": {}
                },
                {
                    "output_type": "execute_result",
                    "execution_count": 46,
                    "data": {
                        "application/vnd.dataresource+json": {
                            "schema": {
                                "fields": [
                                    {
                                        "name": "Country"
                                    },
                                    {
                                        "name": "CustomerCount"
                                    }
                                ]
                            },
                            "data": [
                                {
                                    "Country": "Argentina ",
                                    "CustomerCount": "3"
                                },
                                {
                                    "Country": "Austria ",
                                    "CustomerCount": "2"
                                },
                                {
                                    "Country": "Belgium ",
                                    "CustomerCount": "2"
                                },
                                {
                                    "Country": "Brazil ",
                                    "CustomerCount": "9"
                                },
                                {
                                    "Country": "Canada ",
                                    "CustomerCount": "3"
                                }
                            ]
                        },
                        "text/html": "<table><tr><th>Country</th><th>CustomerCount</th></tr><tr><td>Argentina </td><td>3</td></tr><tr><td>Austria </td><td>2</td></tr><tr><td>Belgium </td><td>2</td></tr><tr><td>Brazil </td><td>9</td></tr><tr><td>Canada </td><td>3</td></tr></table>"
                    },
                    "metadata": {}
                }
            ],
            "execution_count": 46
        },
        {
            "cell_type": "markdown",
            "source": [
                "### **HAVING to Filter Grouped Data**"
            ],
            "metadata": {
                "language": "sql",
                "azdata_cell_guid": "b04c55ae-8b0f-4cac-bf88-35c3d13c0231"
            },
            "attachments": {}
        },
        {
            "cell_type": "code",
            "source": [
                "SELECT top 5 Country, COUNT(*) AS CustomerCount \r\n",
                "FROM dbo.Customers \r\n",
                "GROUP BY Country\r\n",
                "HAVING COUNT(*) > 10;\r\n",
                ""
            ],
            "metadata": {
                "azdata_cell_guid": "a8736ce2-f026-4a01-a39d-535b47c83be5",
                "language": "sql"
            },
            "outputs": [
                {
                    "output_type": "display_data",
                    "data": {
                        "text/html": "(3 rows affected)"
                    },
                    "metadata": {}
                },
                {
                    "output_type": "display_data",
                    "data": {
                        "text/html": "Total execution time: 00:00:00.004"
                    },
                    "metadata": {}
                },
                {
                    "output_type": "execute_result",
                    "execution_count": 47,
                    "data": {
                        "application/vnd.dataresource+json": {
                            "schema": {
                                "fields": [
                                    {
                                        "name": "Country"
                                    },
                                    {
                                        "name": "CustomerCount"
                                    }
                                ]
                            },
                            "data": [
                                {
                                    "Country": "France ",
                                    "CustomerCount": "11"
                                },
                                {
                                    "Country": "Germany ",
                                    "CustomerCount": "11"
                                },
                                {
                                    "Country": "USA ",
                                    "CustomerCount": "13"
                                }
                            ]
                        },
                        "text/html": "<table><tr><th>Country</th><th>CustomerCount</th></tr><tr><td>France </td><td>11</td></tr><tr><td>Germany </td><td>11</td></tr><tr><td>USA </td><td>13</td></tr></table>"
                    },
                    "metadata": {}
                }
            ],
            "execution_count": 47
        },
        {
            "cell_type": "markdown",
            "source": [
                "### **DISTINCT to Remove Duplicates**"
            ],
            "metadata": {
                "language": "sql",
                "azdata_cell_guid": "858605c6-185f-41d5-a9e2-3d04fc11a7af"
            },
            "attachments": {}
        },
        {
            "cell_type": "code",
            "source": [
                "SELECT DISTINCT top 5 Country \r\n",
                "FROM dbo.Customers;\r\n",
                ""
            ],
            "metadata": {
                "azdata_cell_guid": "11e9578c-d870-4fb1-8605-76c48374ef42",
                "language": "sql",
                "tags": [
                    "hide_input"
                ]
            },
            "outputs": [
                {
                    "output_type": "display_data",
                    "data": {
                        "text/html": "(5 rows affected)"
                    },
                    "metadata": {}
                },
                {
                    "output_type": "display_data",
                    "data": {
                        "text/html": "Total execution time: 00:00:00.004"
                    },
                    "metadata": {}
                },
                {
                    "output_type": "execute_result",
                    "execution_count": 48,
                    "data": {
                        "application/vnd.dataresource+json": {
                            "schema": {
                                "fields": [
                                    {
                                        "name": "Country"
                                    }
                                ]
                            },
                            "data": [
                                {
                                    "Country": "Argentina "
                                },
                                {
                                    "Country": "Austria "
                                },
                                {
                                    "Country": "Belgium "
                                },
                                {
                                    "Country": "Brazil "
                                },
                                {
                                    "Country": "Canada "
                                }
                            ]
                        },
                        "text/html": "<table><tr><th>Country</th></tr><tr><td>Argentina </td></tr><tr><td>Austria </td></tr><tr><td>Belgium </td></tr><tr><td>Brazil </td></tr><tr><td>Canada </td></tr></table>"
                    },
                    "metadata": {}
                }
            ],
            "execution_count": 48
        },
        {
            "cell_type": "markdown",
            "source": [
                "### **Use LIKE for Pattern Matching**"
            ],
            "metadata": {
                "language": "sql",
                "azdata_cell_guid": "f98b7ed4-ab39-45d7-95ce-8974b7504997"
            },
            "attachments": {}
        },
        {
            "cell_type": "code",
            "source": [
                "SELECT top 5 * \r\n",
                "FROM dbo.Customers \r\n",
                "WHERE CustomerName \r\n",
                "LIKE 'A%';\r\n",
                ""
            ],
            "metadata": {
                "azdata_cell_guid": "c5fc7cda-f0bf-4756-b5b2-08894ea70b60",
                "language": "sql"
            },
            "outputs": [
                {
                    "output_type": "display_data",
                    "data": {
                        "text/html": "(4 rows affected)"
                    },
                    "metadata": {}
                },
                {
                    "output_type": "display_data",
                    "data": {
                        "text/html": "Total execution time: 00:00:00.006"
                    },
                    "metadata": {}
                },
                {
                    "output_type": "execute_result",
                    "execution_count": 49,
                    "data": {
                        "application/vnd.dataresource+json": {
                            "schema": {
                                "fields": [
                                    {
                                        "name": "CustomerID"
                                    },
                                    {
                                        "name": "CustomerName"
                                    },
                                    {
                                        "name": "ContactName"
                                    },
                                    {
                                        "name": "Address"
                                    },
                                    {
                                        "name": "City"
                                    },
                                    {
                                        "name": "PostalCode"
                                    },
                                    {
                                        "name": "Country"
                                    }
                                ]
                            },
                            "data": [
                                {
                                    "CustomerID": "1",
                                    "CustomerName": "Alfreds Futterkiste ",
                                    "ContactName": "Maria Anders ",
                                    "Address": "Obere Str. 57 ",
                                    "City": "Berlin ",
                                    "PostalCode": "12209 ",
                                    "Country": "Germany "
                                },
                                {
                                    "CustomerID": "2",
                                    "CustomerName": "Ana Trujillo Emparedados y helados ",
                                    "ContactName": "Ana Trujillo ",
                                    "Address": "Avda. de la Constitución 2222 ",
                                    "City": "México D.F. ",
                                    "PostalCode": "05021 ",
                                    "Country": "Mexico "
                                },
                                {
                                    "CustomerID": "3",
                                    "CustomerName": "Antonio Moreno Taquería ",
                                    "ContactName": "Antonio Moreno ",
                                    "Address": "Mataderos 2312 ",
                                    "City": "México D.F. ",
                                    "PostalCode": "05023 ",
                                    "Country": "Mexico "
                                },
                                {
                                    "CustomerID": "4",
                                    "CustomerName": "Around the Horn ",
                                    "ContactName": "Thomas Hardy ",
                                    "Address": "120 Hanover Sq. ",
                                    "City": "London ",
                                    "PostalCode": "WA1 1DP ",
                                    "Country": "UK "
                                }
                            ]
                        },
                        "text/html": "<table><tr><th>CustomerID</th><th>CustomerName</th><th>ContactName</th><th>Address</th><th>City</th><th>PostalCode</th><th>Country</th></tr><tr><td>1</td><td>Alfreds Futterkiste </td><td>Maria Anders </td><td>Obere Str. 57 </td><td>Berlin </td><td>12209 </td><td>Germany </td></tr><tr><td>2</td><td>Ana Trujillo Emparedados y helados </td><td>Ana Trujillo </td><td>Avda. de la Constitución 2222 </td><td>México D.F. </td><td>05021 </td><td>Mexico </td></tr><tr><td>3</td><td>Antonio Moreno Taquería </td><td>Antonio Moreno </td><td>Mataderos 2312 </td><td>México D.F. </td><td>05023 </td><td>Mexico </td></tr><tr><td>4</td><td>Around the Horn </td><td>Thomas Hardy </td><td>120 Hanover Sq. </td><td>London </td><td>WA1 1DP </td><td>UK </td></tr></table>"
                    },
                    "metadata": {}
                }
            ],
            "execution_count": 49
        },
        {
            "cell_type": "markdown",
            "source": [
                "### **BETWEEN for Range Filters**"
            ],
            "metadata": {
                "language": "sql",
                "azdata_cell_guid": "69075faa-108b-42f7-99bf-56e1978f9c5e"
            },
            "attachments": {}
        },
        {
            "cell_type": "code",
            "source": [
                "SELECT * \r\n",
                "FROM dbo.Orders \r\n",
                "WHERE OrderDate BETWEEN '1996-09-02' AND '1996-09-07';\r\n",
                ""
            ],
            "metadata": {
                "azdata_cell_guid": "298078ca-0eb7-4e81-b1db-4815615f30a1",
                "language": "sql",
                "tags": [
                    "hide_input"
                ]
            },
            "outputs": [
                {
                    "output_type": "display_data",
                    "data": {
                        "text/html": "(5 rows affected)"
                    },
                    "metadata": {}
                },
                {
                    "output_type": "display_data",
                    "data": {
                        "text/html": "Total execution time: 00:00:00.004"
                    },
                    "metadata": {}
                },
                {
                    "output_type": "execute_result",
                    "execution_count": 50,
                    "data": {
                        "application/vnd.dataresource+json": {
                            "schema": {
                                "fields": [
                                    {
                                        "name": "OrderID"
                                    },
                                    {
                                        "name": "CustomerID"
                                    },
                                    {
                                        "name": "EmployeeID"
                                    },
                                    {
                                        "name": "OrderDate"
                                    },
                                    {
                                        "name": "ShipperID"
                                    }
                                ]
                            },
                            "data": [
                                {
                                    "OrderID": "10295",
                                    "CustomerID": "85",
                                    "EmployeeID": "2",
                                    "OrderDate": "1996-09-02",
                                    "ShipperID": "2"
                                },
                                {
                                    "OrderID": "10296",
                                    "CustomerID": "46",
                                    "EmployeeID": "6",
                                    "OrderDate": "1996-09-03",
                                    "ShipperID": "1"
                                },
                                {
                                    "OrderID": "10297",
                                    "CustomerID": "7",
                                    "EmployeeID": "5",
                                    "OrderDate": "1996-09-04",
                                    "ShipperID": "2"
                                },
                                {
                                    "OrderID": "10298",
                                    "CustomerID": "37",
                                    "EmployeeID": "6",
                                    "OrderDate": "1996-09-05",
                                    "ShipperID": "2"
                                },
                                {
                                    "OrderID": "10299",
                                    "CustomerID": "67",
                                    "EmployeeID": "4",
                                    "OrderDate": "1996-09-06",
                                    "ShipperID": "2"
                                }
                            ]
                        },
                        "text/html": "<table><tr><th>OrderID</th><th>CustomerID</th><th>EmployeeID</th><th>OrderDate</th><th>ShipperID</th></tr><tr><td>10295</td><td>85</td><td>2</td><td>1996-09-02</td><td>2</td></tr><tr><td>10296</td><td>46</td><td>6</td><td>1996-09-03</td><td>1</td></tr><tr><td>10297</td><td>7</td><td>5</td><td>1996-09-04</td><td>2</td></tr><tr><td>10298</td><td>37</td><td>6</td><td>1996-09-05</td><td>2</td></tr><tr><td>10299</td><td>67</td><td>4</td><td>1996-09-06</td><td>2</td></tr></table>"
                    },
                    "metadata": {}
                }
            ],
            "execution_count": 50
        },
        {
            "cell_type": "markdown",
            "source": [
                "### **IN for Multiple Values**"
            ],
            "metadata": {
                "language": "sql",
                "azdata_cell_guid": "dc6cbcd5-94ef-4ea8-b081-4e32899b1d36"
            },
            "attachments": {}
        },
        {
            "cell_type": "code",
            "source": [
                "SELECT * FROM dbo.Shippers WHERE ShipperID IN (1, 2, 3);\r\n",
                ""
            ],
            "metadata": {
                "azdata_cell_guid": "5f786c6c-0a23-441a-8547-07704f4a3c95",
                "language": "sql"
            },
            "outputs": [
                {
                    "output_type": "display_data",
                    "data": {
                        "text/html": "(3 rows affected)"
                    },
                    "metadata": {}
                },
                {
                    "output_type": "display_data",
                    "data": {
                        "text/html": "Total execution time: 00:00:00.004"
                    },
                    "metadata": {}
                },
                {
                    "output_type": "execute_result",
                    "execution_count": 51,
                    "data": {
                        "application/vnd.dataresource+json": {
                            "schema": {
                                "fields": [
                                    {
                                        "name": "ShipperID"
                                    },
                                    {
                                        "name": "ShipperName"
                                    },
                                    {
                                        "name": "Phone"
                                    }
                                ]
                            },
                            "data": [
                                {
                                    "ShipperID": "1",
                                    "ShipperName": "Speedy Express ",
                                    "Phone": "(503) 555-9831 "
                                },
                                {
                                    "ShipperID": "2",
                                    "ShipperName": "United Package ",
                                    "Phone": "(503) 555-3199 "
                                },
                                {
                                    "ShipperID": "3",
                                    "ShipperName": "Federal Shipping ",
                                    "Phone": "(503) 555-9931 "
                                }
                            ]
                        },
                        "text/html": "<table><tr><th>ShipperID</th><th>ShipperName</th><th>Phone</th></tr><tr><td>1</td><td>Speedy Express </td><td>(503) 555-9831 </td></tr><tr><td>2</td><td>United Package </td><td>(503) 555-3199 </td></tr><tr><td>3</td><td>Federal Shipping </td><td>(503) 555-9931 </td></tr></table>"
                    },
                    "metadata": {}
                }
            ],
            "execution_count": 51
        },
        {
            "cell_type": "markdown",
            "source": [
                "### **IS NULL to Handle NULL Values**"
            ],
            "metadata": {
                "language": "sql",
                "azdata_cell_guid": "d6d93d47-2a66-4555-ba32-ed353f110cd1"
            },
            "attachments": {}
        },
        {
            "cell_type": "code",
            "source": [
                "SELECT * FROM dbo.Orders WHERE ShipperID IS NULL;"
            ],
            "metadata": {
                "azdata_cell_guid": "ba453d43-bf51-4354-b7a8-6ac831618d5d",
                "language": "sql"
            },
            "outputs": [
                {
                    "output_type": "display_data",
                    "data": {
                        "text/html": "(0 rows affected)"
                    },
                    "metadata": {}
                },
                {
                    "output_type": "display_data",
                    "data": {
                        "text/html": "Total execution time: 00:00:00.003"
                    },
                    "metadata": {}
                },
                {
                    "output_type": "execute_result",
                    "execution_count": 52,
                    "data": {
                        "application/vnd.dataresource+json": {
                            "schema": {
                                "fields": [
                                    {
                                        "name": "OrderID"
                                    },
                                    {
                                        "name": "CustomerID"
                                    },
                                    {
                                        "name": "EmployeeID"
                                    },
                                    {
                                        "name": "OrderDate"
                                    },
                                    {
                                        "name": "ShipperID"
                                    }
                                ]
                            },
                            "data": []
                        },
                        "text/html": "<table><tr><th>OrderID</th><th>CustomerID</th><th>EmployeeID</th><th>OrderDate</th><th>ShipperID</th></tr></table>"
                    },
                    "metadata": {}
                }
            ],
            "execution_count": 52
        },
        {
            "cell_type": "markdown",
            "source": [
                "### **Use CASE for Conditional Logic**"
            ],
            "metadata": {
                "language": "sql",
                "azdata_cell_guid": "1e865016-5f1b-4fdb-bfd3-3e6ce18cf188"
            },
            "attachments": {}
        },
        {
            "cell_type": "code",
            "source": [
                "SELECT CustomerName, \r\n",
                "       CASE \r\n",
                "         WHEN Country = 'USA' THEN 'Domestic' \r\n",
                "         ELSE 'International' \r\n",
                "       END AS CustomerType \r\n",
                "FROM dbo.Customers;\r\n",
                ""
            ],
            "metadata": {
                "azdata_cell_guid": "c57bc0f4-04de-4c7d-a90f-80cb0878e8d0",
                "language": "sql"
            },
            "outputs": [
                {
                    "output_type": "display_data",
                    "data": {
                        "text/html": "(91 rows affected)"
                    },
                    "metadata": {}
                },
                {
                    "output_type": "display_data",
                    "data": {
                        "text/html": "Total execution time: 00:00:00.005"
                    },
                    "metadata": {}
                },
                {
                    "output_type": "execute_result",
                    "execution_count": 53,
                    "data": {
                        "application/vnd.dataresource+json": {
                            "schema": {
                                "fields": [
                                    {
                                        "name": "CustomerName"
                                    },
                                    {
                                        "name": "CustomerType"
                                    }
                                ]
                            },
                            "data": [
                                {
                                    "CustomerName": "Alfreds Futterkiste ",
                                    "CustomerType": "International"
                                },
                                {
                                    "CustomerName": "Ana Trujillo Emparedados y helados ",
                                    "CustomerType": "International"
                                },
                                {
                                    "CustomerName": "Antonio Moreno Taquería ",
                                    "CustomerType": "International"
                                },
                                {
                                    "CustomerName": "Around the Horn ",
                                    "CustomerType": "International"
                                },
                                {
                                    "CustomerName": "Berglunds snabbköp ",
                                    "CustomerType": "International"
                                },
                                {
                                    "CustomerName": "Blauer See Delikatessen ",
                                    "CustomerType": "International"
                                },
                                {
                                    "CustomerName": "Blondel père et fils ",
                                    "CustomerType": "International"
                                },
                                {
                                    "CustomerName": "Bólido Comidas preparadas ",
                                    "CustomerType": "International"
                                },
                                {
                                    "CustomerName": "Bon app' ",
                                    "CustomerType": "International"
                                },
                                {
                                    "CustomerName": "Bottom-Dollar Marketse ",
                                    "CustomerType": "International"
                                },
                                {
                                    "CustomerName": "B's Beverages ",
                                    "CustomerType": "International"
                                },
                                {
                                    "CustomerName": "Cactus Comidas para llevar ",
                                    "CustomerType": "International"
                                },
                                {
                                    "CustomerName": "Centro comercial Moctezuma ",
                                    "CustomerType": "International"
                                },
                                {
                                    "CustomerName": "Chop-suey Chinese ",
                                    "CustomerType": "International"
                                },
                                {
                                    "CustomerName": "Comércio Mineiro ",
                                    "CustomerType": "International"
                                },
                                {
                                    "CustomerName": "Consolidated Holdings ",
                                    "CustomerType": "International"
                                },
                                {
                                    "CustomerName": "Drachenblut Delikatessend ",
                                    "CustomerType": "International"
                                },
                                {
                                    "CustomerName": "Du monde entier ",
                                    "CustomerType": "International"
                                },
                                {
                                    "CustomerName": "Eastern Connection ",
                                    "CustomerType": "International"
                                },
                                {
                                    "CustomerName": "Ernst Handel ",
                                    "CustomerType": "International"
                                },
                                {
                                    "CustomerName": "Familia Arquibaldo ",
                                    "CustomerType": "International"
                                },
                                {
                                    "CustomerName": "FISSA Fabrica Inter. Salchichas S.A. ",
                                    "CustomerType": "International"
                                },
                                {
                                    "CustomerName": "Folies gourmandes ",
                                    "CustomerType": "International"
                                },
                                {
                                    "CustomerName": "Folk och fä HB ",
                                    "CustomerType": "International"
                                },
                                {
                                    "CustomerName": "Frankenversand ",
                                    "CustomerType": "International"
                                },
                                {
                                    "CustomerName": "France restauration ",
                                    "CustomerType": "International"
                                },
                                {
                                    "CustomerName": "Franchi S.p.A. ",
                                    "CustomerType": "International"
                                },
                                {
                                    "CustomerName": "Furia Bacalhau e Frutos do Mar ",
                                    "CustomerType": "International"
                                },
                                {
                                    "CustomerName": "Galería del gastrónomo ",
                                    "CustomerType": "International"
                                },
                                {
                                    "CustomerName": "Godos Cocina Típica ",
                                    "CustomerType": "International"
                                },
                                {
                                    "CustomerName": "Gourmet Lanchonetes ",
                                    "CustomerType": "International"
                                },
                                {
                                    "CustomerName": "Great Lakes Food Market ",
                                    "CustomerType": "International"
                                },
                                {
                                    "CustomerName": "GROSELLA-Restaurante ",
                                    "CustomerType": "International"
                                },
                                {
                                    "CustomerName": "Hanari Carnes ",
                                    "CustomerType": "International"
                                },
                                {
                                    "CustomerName": "HILARIÓN-Abastos ",
                                    "CustomerType": "International"
                                },
                                {
                                    "CustomerName": "Hungry Coyote Import Store ",
                                    "CustomerType": "International"
                                },
                                {
                                    "CustomerName": "Hungry Owl All-Night Grocers ",
                                    "CustomerType": "International"
                                },
                                {
                                    "CustomerName": "Island Trading ",
                                    "CustomerType": "International"
                                },
                                {
                                    "CustomerName": "Königlich Essen ",
                                    "CustomerType": "International"
                                },
                                {
                                    "CustomerName": "La corne d'abondance ",
                                    "CustomerType": "International"
                                },
                                {
                                    "CustomerName": "La maison d'Asie ",
                                    "CustomerType": "International"
                                },
                                {
                                    "CustomerName": "Laughing Bacchus Wine Cellars ",
                                    "CustomerType": "International"
                                },
                                {
                                    "CustomerName": "Lazy K Kountry Store ",
                                    "CustomerType": "International"
                                },
                                {
                                    "CustomerName": "Lehmanns Marktstand ",
                                    "CustomerType": "International"
                                },
                                {
                                    "CustomerName": "Let's Stop N Shop ",
                                    "CustomerType": "International"
                                },
                                {
                                    "CustomerName": "LILA-Supermercado ",
                                    "CustomerType": "International"
                                },
                                {
                                    "CustomerName": "LINO-Delicateses ",
                                    "CustomerType": "International"
                                },
                                {
                                    "CustomerName": "Lonesome Pine Restaurant ",
                                    "CustomerType": "International"
                                },
                                {
                                    "CustomerName": "Magazzini Alimentari Riuniti ",
                                    "CustomerType": "International"
                                },
                                {
                                    "CustomerName": "Maison Dewey ",
                                    "CustomerType": "International"
                                },
                                {
                                    "CustomerName": "Mère Paillarde ",
                                    "CustomerType": "International"
                                },
                                {
                                    "CustomerName": "Morgenstern Gesundkost ",
                                    "CustomerType": "International"
                                },
                                {
                                    "CustomerName": "North/South ",
                                    "CustomerType": "International"
                                },
                                {
                                    "CustomerName": "Océano Atlántico Ltda. ",
                                    "CustomerType": "International"
                                },
                                {
                                    "CustomerName": "Old World Delicatessen ",
                                    "CustomerType": "International"
                                },
                                {
                                    "CustomerName": "Ottilies Käseladen ",
                                    "CustomerType": "International"
                                },
                                {
                                    "CustomerName": "Paris spécialités ",
                                    "CustomerType": "International"
                                },
                                {
                                    "CustomerName": "Pericles Comidas clásicas ",
                                    "CustomerType": "International"
                                },
                                {
                                    "CustomerName": "Piccolo und mehr ",
                                    "CustomerType": "International"
                                },
                                {
                                    "CustomerName": "Princesa Isabel Vinhoss ",
                                    "CustomerType": "International"
                                },
                                {
                                    "CustomerName": "Que Delícia ",
                                    "CustomerType": "International"
                                },
                                {
                                    "CustomerName": "Queen Cozinha ",
                                    "CustomerType": "International"
                                },
                                {
                                    "CustomerName": "QUICK-Stop ",
                                    "CustomerType": "International"
                                },
                                {
                                    "CustomerName": "Rancho grande ",
                                    "CustomerType": "International"
                                },
                                {
                                    "CustomerName": "Rattlesnake Canyon Grocery ",
                                    "CustomerType": "International"
                                },
                                {
                                    "CustomerName": "Reggiani Caseifici ",
                                    "CustomerType": "International"
                                },
                                {
                                    "CustomerName": "Ricardo Adocicados ",
                                    "CustomerType": "International"
                                },
                                {
                                    "CustomerName": "Richter Supermarkt ",
                                    "CustomerType": "International"
                                },
                                {
                                    "CustomerName": "Romero y tomillo ",
                                    "CustomerType": "International"
                                },
                                {
                                    "CustomerName": "Santé Gourmet ",
                                    "CustomerType": "International"
                                },
                                {
                                    "CustomerName": "Save-a-lot Markets ",
                                    "CustomerType": "International"
                                },
                                {
                                    "CustomerName": "Seven Seas Imports ",
                                    "CustomerType": "International"
                                },
                                {
                                    "CustomerName": "Simons bistro ",
                                    "CustomerType": "International"
                                },
                                {
                                    "CustomerName": "Spécialités du monde ",
                                    "CustomerType": "International"
                                },
                                {
                                    "CustomerName": "Split Rail Beer & Ale ",
                                    "CustomerType": "International"
                                },
                                {
                                    "CustomerName": "Suprêmes délices ",
                                    "CustomerType": "International"
                                },
                                {
                                    "CustomerName": "The Big Cheese ",
                                    "CustomerType": "International"
                                },
                                {
                                    "CustomerName": "The Cracker Box ",
                                    "CustomerType": "International"
                                },
                                {
                                    "CustomerName": "Toms Spezialitäten ",
                                    "CustomerType": "International"
                                },
                                {
                                    "CustomerName": "Tortuga Restaurante ",
                                    "CustomerType": "International"
                                },
                                {
                                    "CustomerName": "Tradição Hipermercados ",
                                    "CustomerType": "International"
                                },
                                {
                                    "CustomerName": "Trail's Head Gourmet Provisioners ",
                                    "CustomerType": "International"
                                },
                                {
                                    "CustomerName": "Vaffeljernet ",
                                    "CustomerType": "International"
                                },
                                {
                                    "CustomerName": "Victuailles en stock ",
                                    "CustomerType": "International"
                                },
                                {
                                    "CustomerName": "Vins et alcools Chevalier ",
                                    "CustomerType": "International"
                                },
                                {
                                    "CustomerName": "Die Wandernde Kuh ",
                                    "CustomerType": "International"
                                },
                                {
                                    "CustomerName": "Wartian Herkku ",
                                    "CustomerType": "International"
                                },
                                {
                                    "CustomerName": "Wellington Importadora ",
                                    "CustomerType": "International"
                                },
                                {
                                    "CustomerName": "White Clover Markets ",
                                    "CustomerType": "International"
                                },
                                {
                                    "CustomerName": "Wilman Kala ",
                                    "CustomerType": "International"
                                },
                                {
                                    "CustomerName": "Wolski ",
                                    "CustomerType": "International"
                                }
                            ]
                        },
                        "text/html": "<table><tr><th>CustomerName</th><th>CustomerType</th></tr><tr><td>Alfreds Futterkiste </td><td>International</td></tr><tr><td>Ana Trujillo Emparedados y helados </td><td>International</td></tr><tr><td>Antonio Moreno Taquería </td><td>International</td></tr><tr><td>Around the Horn </td><td>International</td></tr><tr><td>Berglunds snabbköp </td><td>International</td></tr><tr><td>Blauer See Delikatessen </td><td>International</td></tr><tr><td>Blondel père et fils </td><td>International</td></tr><tr><td>Bólido Comidas preparadas </td><td>International</td></tr><tr><td>Bon app&#39; </td><td>International</td></tr><tr><td>Bottom-Dollar Marketse </td><td>International</td></tr><tr><td>B&#39;s Beverages </td><td>International</td></tr><tr><td>Cactus Comidas para llevar </td><td>International</td></tr><tr><td>Centro comercial Moctezuma </td><td>International</td></tr><tr><td>Chop-suey Chinese </td><td>International</td></tr><tr><td>Comércio Mineiro </td><td>International</td></tr><tr><td>Consolidated Holdings </td><td>International</td></tr><tr><td>Drachenblut Delikatessend </td><td>International</td></tr><tr><td>Du monde entier </td><td>International</td></tr><tr><td>Eastern Connection </td><td>International</td></tr><tr><td>Ernst Handel </td><td>International</td></tr><tr><td>Familia Arquibaldo </td><td>International</td></tr><tr><td>FISSA Fabrica Inter. Salchichas S.A. </td><td>International</td></tr><tr><td>Folies gourmandes </td><td>International</td></tr><tr><td>Folk och fä HB </td><td>International</td></tr><tr><td>Frankenversand </td><td>International</td></tr><tr><td>France restauration </td><td>International</td></tr><tr><td>Franchi S.p.A. </td><td>International</td></tr><tr><td>Furia Bacalhau e Frutos do Mar </td><td>International</td></tr><tr><td>Galería del gastrónomo </td><td>International</td></tr><tr><td>Godos Cocina Típica </td><td>International</td></tr><tr><td>Gourmet Lanchonetes </td><td>International</td></tr><tr><td>Great Lakes Food Market </td><td>International</td></tr><tr><td>GROSELLA-Restaurante </td><td>International</td></tr><tr><td>Hanari Carnes </td><td>International</td></tr><tr><td>HILARIÓN-Abastos </td><td>International</td></tr><tr><td>Hungry Coyote Import Store </td><td>International</td></tr><tr><td>Hungry Owl All-Night Grocers </td><td>International</td></tr><tr><td>Island Trading </td><td>International</td></tr><tr><td>Königlich Essen </td><td>International</td></tr><tr><td>La corne d&#39;abondance </td><td>International</td></tr><tr><td>La maison d&#39;Asie </td><td>International</td></tr><tr><td>Laughing Bacchus Wine Cellars </td><td>International</td></tr><tr><td>Lazy K Kountry Store </td><td>International</td></tr><tr><td>Lehmanns Marktstand </td><td>International</td></tr><tr><td>Let&#39;s Stop N Shop </td><td>International</td></tr><tr><td>LILA-Supermercado </td><td>International</td></tr><tr><td>LINO-Delicateses </td><td>International</td></tr><tr><td>Lonesome Pine Restaurant </td><td>International</td></tr><tr><td>Magazzini Alimentari Riuniti </td><td>International</td></tr><tr><td>Maison Dewey </td><td>International</td></tr><tr><td>Mère Paillarde </td><td>International</td></tr><tr><td>Morgenstern Gesundkost </td><td>International</td></tr><tr><td>North/South </td><td>International</td></tr><tr><td>Océano Atlántico Ltda. </td><td>International</td></tr><tr><td>Old World Delicatessen </td><td>International</td></tr><tr><td>Ottilies Käseladen </td><td>International</td></tr><tr><td>Paris spécialités </td><td>International</td></tr><tr><td>Pericles Comidas clásicas </td><td>International</td></tr><tr><td>Piccolo und mehr </td><td>International</td></tr><tr><td>Princesa Isabel Vinhoss </td><td>International</td></tr><tr><td>Que Delícia </td><td>International</td></tr><tr><td>Queen Cozinha </td><td>International</td></tr><tr><td>QUICK-Stop </td><td>International</td></tr><tr><td>Rancho grande </td><td>International</td></tr><tr><td>Rattlesnake Canyon Grocery </td><td>International</td></tr><tr><td>Reggiani Caseifici </td><td>International</td></tr><tr><td>Ricardo Adocicados </td><td>International</td></tr><tr><td>Richter Supermarkt </td><td>International</td></tr><tr><td>Romero y tomillo </td><td>International</td></tr><tr><td>Santé Gourmet </td><td>International</td></tr><tr><td>Save-a-lot Markets </td><td>International</td></tr><tr><td>Seven Seas Imports </td><td>International</td></tr><tr><td>Simons bistro </td><td>International</td></tr><tr><td>Spécialités du monde </td><td>International</td></tr><tr><td>Split Rail Beer &amp; Ale </td><td>International</td></tr><tr><td>Suprêmes délices </td><td>International</td></tr><tr><td>The Big Cheese </td><td>International</td></tr><tr><td>The Cracker Box </td><td>International</td></tr><tr><td>Toms Spezialitäten </td><td>International</td></tr><tr><td>Tortuga Restaurante </td><td>International</td></tr><tr><td>Tradição Hipermercados </td><td>International</td></tr><tr><td>Trail&#39;s Head Gourmet Provisioners </td><td>International</td></tr><tr><td>Vaffeljernet </td><td>International</td></tr><tr><td>Victuailles en stock </td><td>International</td></tr><tr><td>Vins et alcools Chevalier </td><td>International</td></tr><tr><td>Die Wandernde Kuh </td><td>International</td></tr><tr><td>Wartian Herkku </td><td>International</td></tr><tr><td>Wellington Importadora </td><td>International</td></tr><tr><td>White Clover Markets </td><td>International</td></tr><tr><td>Wilman Kala </td><td>International</td></tr><tr><td>Wolski </td><td>International</td></tr></table>"
                    },
                    "metadata": {}
                }
            ],
            "execution_count": 53
        },
        {
            "cell_type": "markdown",
            "source": [
                "### **Use COALESCE to Replace NULLs**"
            ],
            "metadata": {
                "language": "sql",
                "azdata_cell_guid": "0a014eca-e759-4c2b-b26c-ac568ec8ed5e"
            },
            "attachments": {}
        },
        {
            "cell_type": "code",
            "source": [
                "SELECT CustomerName, COALESCE(ContactName, 'N/A') AS ContactName \r\n",
                "FROM dbo.Customers;\r\n",
                ""
            ],
            "metadata": {
                "azdata_cell_guid": "600ab683-b999-4d28-8a27-0fa008b55123",
                "language": "sql"
            },
            "outputs": [
                {
                    "output_type": "display_data",
                    "data": {
                        "text/html": "(91 rows affected)"
                    },
                    "metadata": {}
                },
                {
                    "output_type": "display_data",
                    "data": {
                        "text/html": "Total execution time: 00:00:00.004"
                    },
                    "metadata": {}
                },
                {
                    "output_type": "execute_result",
                    "execution_count": 54,
                    "data": {
                        "application/vnd.dataresource+json": {
                            "schema": {
                                "fields": [
                                    {
                                        "name": "CustomerName"
                                    },
                                    {
                                        "name": "ContactName"
                                    }
                                ]
                            },
                            "data": [
                                {
                                    "CustomerName": "Alfreds Futterkiste ",
                                    "ContactName": "Maria Anders "
                                },
                                {
                                    "CustomerName": "Ana Trujillo Emparedados y helados ",
                                    "ContactName": "Ana Trujillo "
                                },
                                {
                                    "CustomerName": "Antonio Moreno Taquería ",
                                    "ContactName": "Antonio Moreno "
                                },
                                {
                                    "CustomerName": "Around the Horn ",
                                    "ContactName": "Thomas Hardy "
                                },
                                {
                                    "CustomerName": "Berglunds snabbköp ",
                                    "ContactName": "Christina Berglund "
                                },
                                {
                                    "CustomerName": "Blauer See Delikatessen ",
                                    "ContactName": "Hanna Moos "
                                },
                                {
                                    "CustomerName": "Blondel père et fils ",
                                    "ContactName": "Frédérique Citeaux "
                                },
                                {
                                    "CustomerName": "Bólido Comidas preparadas ",
                                    "ContactName": "Martín Sommer "
                                },
                                {
                                    "CustomerName": "Bon app' ",
                                    "ContactName": "Laurence Lebihans "
                                },
                                {
                                    "CustomerName": "Bottom-Dollar Marketse ",
                                    "ContactName": "Elizabeth Lincoln "
                                },
                                {
                                    "CustomerName": "B's Beverages ",
                                    "ContactName": "Victoria Ashworth "
                                },
                                {
                                    "CustomerName": "Cactus Comidas para llevar ",
                                    "ContactName": "Patricio Simpson "
                                },
                                {
                                    "CustomerName": "Centro comercial Moctezuma ",
                                    "ContactName": "Francisco Chang "
                                },
                                {
                                    "CustomerName": "Chop-suey Chinese ",
                                    "ContactName": "Yang Wang "
                                },
                                {
                                    "CustomerName": "Comércio Mineiro ",
                                    "ContactName": "Pedro Afonso "
                                },
                                {
                                    "CustomerName": "Consolidated Holdings ",
                                    "ContactName": "Elizabeth Brown "
                                },
                                {
                                    "CustomerName": "Drachenblut Delikatessend ",
                                    "ContactName": "Sven Ottlieb "
                                },
                                {
                                    "CustomerName": "Du monde entier ",
                                    "ContactName": "Janine Labrune "
                                },
                                {
                                    "CustomerName": "Eastern Connection ",
                                    "ContactName": "Ann Devon "
                                },
                                {
                                    "CustomerName": "Ernst Handel ",
                                    "ContactName": "Roland Mendel "
                                },
                                {
                                    "CustomerName": "Familia Arquibaldo ",
                                    "ContactName": "Aria Cruz "
                                },
                                {
                                    "CustomerName": "FISSA Fabrica Inter. Salchichas S.A. ",
                                    "ContactName": "Diego Roel "
                                },
                                {
                                    "CustomerName": "Folies gourmandes ",
                                    "ContactName": "Martine Rancé "
                                },
                                {
                                    "CustomerName": "Folk och fä HB ",
                                    "ContactName": "Maria Larsson "
                                },
                                {
                                    "CustomerName": "Frankenversand ",
                                    "ContactName": "Peter Franken "
                                },
                                {
                                    "CustomerName": "France restauration ",
                                    "ContactName": "Carine Schmitt "
                                },
                                {
                                    "CustomerName": "Franchi S.p.A. ",
                                    "ContactName": "Paolo Accorti "
                                },
                                {
                                    "CustomerName": "Furia Bacalhau e Frutos do Mar ",
                                    "ContactName": "Lino Rodriguez  "
                                },
                                {
                                    "CustomerName": "Galería del gastrónomo ",
                                    "ContactName": "Eduardo Saavedra "
                                },
                                {
                                    "CustomerName": "Godos Cocina Típica ",
                                    "ContactName": "José Pedro Freyre "
                                },
                                {
                                    "CustomerName": "Gourmet Lanchonetes ",
                                    "ContactName": "André Fonseca "
                                },
                                {
                                    "CustomerName": "Great Lakes Food Market ",
                                    "ContactName": "Howard Snyder "
                                },
                                {
                                    "CustomerName": "GROSELLA-Restaurante ",
                                    "ContactName": "Manuel Pereira "
                                },
                                {
                                    "CustomerName": "Hanari Carnes ",
                                    "ContactName": "Mario Pontes "
                                },
                                {
                                    "CustomerName": "HILARIÓN-Abastos ",
                                    "ContactName": "Carlos Hernández "
                                },
                                {
                                    "CustomerName": "Hungry Coyote Import Store ",
                                    "ContactName": "Yoshi Latimer "
                                },
                                {
                                    "CustomerName": "Hungry Owl All-Night Grocers ",
                                    "ContactName": "Patricia McKenna "
                                },
                                {
                                    "CustomerName": "Island Trading ",
                                    "ContactName": "Helen Bennett "
                                },
                                {
                                    "CustomerName": "Königlich Essen ",
                                    "ContactName": "Philip Cramer "
                                },
                                {
                                    "CustomerName": "La corne d'abondance ",
                                    "ContactName": "Daniel Tonini "
                                },
                                {
                                    "CustomerName": "La maison d'Asie ",
                                    "ContactName": "Annette Roulet "
                                },
                                {
                                    "CustomerName": "Laughing Bacchus Wine Cellars ",
                                    "ContactName": "Yoshi Tannamuri "
                                },
                                {
                                    "CustomerName": "Lazy K Kountry Store ",
                                    "ContactName": "John Steel "
                                },
                                {
                                    "CustomerName": "Lehmanns Marktstand ",
                                    "ContactName": "Renate Messner "
                                },
                                {
                                    "CustomerName": "Let's Stop N Shop ",
                                    "ContactName": "Jaime Yorres "
                                },
                                {
                                    "CustomerName": "LILA-Supermercado ",
                                    "ContactName": "Carlos González "
                                },
                                {
                                    "CustomerName": "LINO-Delicateses ",
                                    "ContactName": "Felipe Izquierdo "
                                },
                                {
                                    "CustomerName": "Lonesome Pine Restaurant ",
                                    "ContactName": "Fran Wilson "
                                },
                                {
                                    "CustomerName": "Magazzini Alimentari Riuniti ",
                                    "ContactName": "Giovanni Rovelli "
                                },
                                {
                                    "CustomerName": "Maison Dewey ",
                                    "ContactName": "Catherine Dewey "
                                },
                                {
                                    "CustomerName": "Mère Paillarde ",
                                    "ContactName": "Jean Fresnière "
                                },
                                {
                                    "CustomerName": "Morgenstern Gesundkost ",
                                    "ContactName": "Alexander Feuer "
                                },
                                {
                                    "CustomerName": "North/South ",
                                    "ContactName": "Simon Crowther "
                                },
                                {
                                    "CustomerName": "Océano Atlántico Ltda. ",
                                    "ContactName": "Yvonne Moncada "
                                },
                                {
                                    "CustomerName": "Old World Delicatessen ",
                                    "ContactName": "Rene Phillips "
                                },
                                {
                                    "CustomerName": "Ottilies Käseladen ",
                                    "ContactName": "Henriette Pfalzheim "
                                },
                                {
                                    "CustomerName": "Paris spécialités ",
                                    "ContactName": "Marie Bertrand "
                                },
                                {
                                    "CustomerName": "Pericles Comidas clásicas ",
                                    "ContactName": "Guillermo Fernández "
                                },
                                {
                                    "CustomerName": "Piccolo und mehr ",
                                    "ContactName": "Georg Pipps "
                                },
                                {
                                    "CustomerName": "Princesa Isabel Vinhoss ",
                                    "ContactName": "Isabel de Castro "
                                },
                                {
                                    "CustomerName": "Que Delícia ",
                                    "ContactName": "Bernardo Batista "
                                },
                                {
                                    "CustomerName": "Queen Cozinha ",
                                    "ContactName": "Lúcia Carvalho "
                                },
                                {
                                    "CustomerName": "QUICK-Stop ",
                                    "ContactName": "Horst Kloss "
                                },
                                {
                                    "CustomerName": "Rancho grande ",
                                    "ContactName": "Sergio Gutiérrez "
                                },
                                {
                                    "CustomerName": "Rattlesnake Canyon Grocery ",
                                    "ContactName": "Paula Wilson "
                                },
                                {
                                    "CustomerName": "Reggiani Caseifici ",
                                    "ContactName": "Maurizio Moroni "
                                },
                                {
                                    "CustomerName": "Ricardo Adocicados ",
                                    "ContactName": "Janete Limeira "
                                },
                                {
                                    "CustomerName": "Richter Supermarkt ",
                                    "ContactName": "Michael Holz "
                                },
                                {
                                    "CustomerName": "Romero y tomillo ",
                                    "ContactName": "Alejandra Camino "
                                },
                                {
                                    "CustomerName": "Santé Gourmet ",
                                    "ContactName": "Jonas Bergulfsen "
                                },
                                {
                                    "CustomerName": "Save-a-lot Markets ",
                                    "ContactName": "Jose Pavarotti "
                                },
                                {
                                    "CustomerName": "Seven Seas Imports ",
                                    "ContactName": "Hari Kumar "
                                },
                                {
                                    "CustomerName": "Simons bistro ",
                                    "ContactName": "Jytte Petersen "
                                },
                                {
                                    "CustomerName": "Spécialités du monde ",
                                    "ContactName": "Dominique Perrier "
                                },
                                {
                                    "CustomerName": "Split Rail Beer & Ale ",
                                    "ContactName": "Art Braunschweiger "
                                },
                                {
                                    "CustomerName": "Suprêmes délices ",
                                    "ContactName": "Pascale Cartrain "
                                },
                                {
                                    "CustomerName": "The Big Cheese ",
                                    "ContactName": "Liz Nixon "
                                },
                                {
                                    "CustomerName": "The Cracker Box ",
                                    "ContactName": "Liu Wong "
                                },
                                {
                                    "CustomerName": "Toms Spezialitäten ",
                                    "ContactName": "Karin Josephs "
                                },
                                {
                                    "CustomerName": "Tortuga Restaurante ",
                                    "ContactName": "Miguel Angel Paolino "
                                },
                                {
                                    "CustomerName": "Tradição Hipermercados ",
                                    "ContactName": "Anabela Domingues "
                                },
                                {
                                    "CustomerName": "Trail's Head Gourmet Provisioners ",
                                    "ContactName": "Helvetius Nagy "
                                },
                                {
                                    "CustomerName": "Vaffeljernet ",
                                    "ContactName": "Palle Ibsen "
                                },
                                {
                                    "CustomerName": "Victuailles en stock ",
                                    "ContactName": "Mary Saveley "
                                },
                                {
                                    "CustomerName": "Vins et alcools Chevalier ",
                                    "ContactName": "Paul Henriot "
                                },
                                {
                                    "CustomerName": "Die Wandernde Kuh ",
                                    "ContactName": "Rita Müller "
                                },
                                {
                                    "CustomerName": "Wartian Herkku ",
                                    "ContactName": "Pirkko Koskitalo "
                                },
                                {
                                    "CustomerName": "Wellington Importadora ",
                                    "ContactName": "Paula Parente "
                                },
                                {
                                    "CustomerName": "White Clover Markets ",
                                    "ContactName": "Karl Jablonski "
                                },
                                {
                                    "CustomerName": "Wilman Kala ",
                                    "ContactName": "Matti Karttunen "
                                },
                                {
                                    "CustomerName": "Wolski ",
                                    "ContactName": "Zbyszek "
                                }
                            ]
                        },
                        "text/html": "<table><tr><th>CustomerName</th><th>ContactName</th></tr><tr><td>Alfreds Futterkiste </td><td>Maria Anders </td></tr><tr><td>Ana Trujillo Emparedados y helados </td><td>Ana Trujillo </td></tr><tr><td>Antonio Moreno Taquería </td><td>Antonio Moreno </td></tr><tr><td>Around the Horn </td><td>Thomas Hardy </td></tr><tr><td>Berglunds snabbköp </td><td>Christina Berglund </td></tr><tr><td>Blauer See Delikatessen </td><td>Hanna Moos </td></tr><tr><td>Blondel père et fils </td><td>Frédérique Citeaux </td></tr><tr><td>Bólido Comidas preparadas </td><td>Martín Sommer </td></tr><tr><td>Bon app&#39; </td><td>Laurence Lebihans </td></tr><tr><td>Bottom-Dollar Marketse </td><td>Elizabeth Lincoln </td></tr><tr><td>B&#39;s Beverages </td><td>Victoria Ashworth </td></tr><tr><td>Cactus Comidas para llevar </td><td>Patricio Simpson </td></tr><tr><td>Centro comercial Moctezuma </td><td>Francisco Chang </td></tr><tr><td>Chop-suey Chinese </td><td>Yang Wang </td></tr><tr><td>Comércio Mineiro </td><td>Pedro Afonso </td></tr><tr><td>Consolidated Holdings </td><td>Elizabeth Brown </td></tr><tr><td>Drachenblut Delikatessend </td><td>Sven Ottlieb </td></tr><tr><td>Du monde entier </td><td>Janine Labrune </td></tr><tr><td>Eastern Connection </td><td>Ann Devon </td></tr><tr><td>Ernst Handel </td><td>Roland Mendel </td></tr><tr><td>Familia Arquibaldo </td><td>Aria Cruz </td></tr><tr><td>FISSA Fabrica Inter. Salchichas S.A. </td><td>Diego Roel </td></tr><tr><td>Folies gourmandes </td><td>Martine Rancé </td></tr><tr><td>Folk och fä HB </td><td>Maria Larsson </td></tr><tr><td>Frankenversand </td><td>Peter Franken </td></tr><tr><td>France restauration </td><td>Carine Schmitt </td></tr><tr><td>Franchi S.p.A. </td><td>Paolo Accorti </td></tr><tr><td>Furia Bacalhau e Frutos do Mar </td><td>Lino Rodriguez  </td></tr><tr><td>Galería del gastrónomo </td><td>Eduardo Saavedra </td></tr><tr><td>Godos Cocina Típica </td><td>José Pedro Freyre </td></tr><tr><td>Gourmet Lanchonetes </td><td>André Fonseca </td></tr><tr><td>Great Lakes Food Market </td><td>Howard Snyder </td></tr><tr><td>GROSELLA-Restaurante </td><td>Manuel Pereira </td></tr><tr><td>Hanari Carnes </td><td>Mario Pontes </td></tr><tr><td>HILARIÓN-Abastos </td><td>Carlos Hernández </td></tr><tr><td>Hungry Coyote Import Store </td><td>Yoshi Latimer </td></tr><tr><td>Hungry Owl All-Night Grocers </td><td>Patricia McKenna </td></tr><tr><td>Island Trading </td><td>Helen Bennett </td></tr><tr><td>Königlich Essen </td><td>Philip Cramer </td></tr><tr><td>La corne d&#39;abondance </td><td>Daniel Tonini </td></tr><tr><td>La maison d&#39;Asie </td><td>Annette Roulet </td></tr><tr><td>Laughing Bacchus Wine Cellars </td><td>Yoshi Tannamuri </td></tr><tr><td>Lazy K Kountry Store </td><td>John Steel </td></tr><tr><td>Lehmanns Marktstand </td><td>Renate Messner </td></tr><tr><td>Let&#39;s Stop N Shop </td><td>Jaime Yorres </td></tr><tr><td>LILA-Supermercado </td><td>Carlos González </td></tr><tr><td>LINO-Delicateses </td><td>Felipe Izquierdo </td></tr><tr><td>Lonesome Pine Restaurant </td><td>Fran Wilson </td></tr><tr><td>Magazzini Alimentari Riuniti </td><td>Giovanni Rovelli </td></tr><tr><td>Maison Dewey </td><td>Catherine Dewey </td></tr><tr><td>Mère Paillarde </td><td>Jean Fresnière </td></tr><tr><td>Morgenstern Gesundkost </td><td>Alexander Feuer </td></tr><tr><td>North/South </td><td>Simon Crowther </td></tr><tr><td>Océano Atlántico Ltda. </td><td>Yvonne Moncada </td></tr><tr><td>Old World Delicatessen </td><td>Rene Phillips </td></tr><tr><td>Ottilies Käseladen </td><td>Henriette Pfalzheim </td></tr><tr><td>Paris spécialités </td><td>Marie Bertrand </td></tr><tr><td>Pericles Comidas clásicas </td><td>Guillermo Fernández </td></tr><tr><td>Piccolo und mehr </td><td>Georg Pipps </td></tr><tr><td>Princesa Isabel Vinhoss </td><td>Isabel de Castro </td></tr><tr><td>Que Delícia </td><td>Bernardo Batista </td></tr><tr><td>Queen Cozinha </td><td>Lúcia Carvalho </td></tr><tr><td>QUICK-Stop </td><td>Horst Kloss </td></tr><tr><td>Rancho grande </td><td>Sergio Gutiérrez </td></tr><tr><td>Rattlesnake Canyon Grocery </td><td>Paula Wilson </td></tr><tr><td>Reggiani Caseifici </td><td>Maurizio Moroni </td></tr><tr><td>Ricardo Adocicados </td><td>Janete Limeira </td></tr><tr><td>Richter Supermarkt </td><td>Michael Holz </td></tr><tr><td>Romero y tomillo </td><td>Alejandra Camino </td></tr><tr><td>Santé Gourmet </td><td>Jonas Bergulfsen </td></tr><tr><td>Save-a-lot Markets </td><td>Jose Pavarotti </td></tr><tr><td>Seven Seas Imports </td><td>Hari Kumar </td></tr><tr><td>Simons bistro </td><td>Jytte Petersen </td></tr><tr><td>Spécialités du monde </td><td>Dominique Perrier </td></tr><tr><td>Split Rail Beer &amp; Ale </td><td>Art Braunschweiger </td></tr><tr><td>Suprêmes délices </td><td>Pascale Cartrain </td></tr><tr><td>The Big Cheese </td><td>Liz Nixon </td></tr><tr><td>The Cracker Box </td><td>Liu Wong </td></tr><tr><td>Toms Spezialitäten </td><td>Karin Josephs </td></tr><tr><td>Tortuga Restaurante </td><td>Miguel Angel Paolino </td></tr><tr><td>Tradição Hipermercados </td><td>Anabela Domingues </td></tr><tr><td>Trail&#39;s Head Gourmet Provisioners </td><td>Helvetius Nagy </td></tr><tr><td>Vaffeljernet </td><td>Palle Ibsen </td></tr><tr><td>Victuailles en stock </td><td>Mary Saveley </td></tr><tr><td>Vins et alcools Chevalier </td><td>Paul Henriot </td></tr><tr><td>Die Wandernde Kuh </td><td>Rita Müller </td></tr><tr><td>Wartian Herkku </td><td>Pirkko Koskitalo </td></tr><tr><td>Wellington Importadora </td><td>Paula Parente </td></tr><tr><td>White Clover Markets </td><td>Karl Jablonski </td></tr><tr><td>Wilman Kala </td><td>Matti Karttunen </td></tr><tr><td>Wolski </td><td>Zbyszek </td></tr></table>"
                    },
                    "metadata": {}
                }
            ],
            "execution_count": 54
        },
        {
            "cell_type": "markdown",
            "source": [
                "**OFFSET**"
            ],
            "metadata": {
                "language": "sql",
                "azdata_cell_guid": "2a913d3f-aeed-47fc-a8a0-80e8c6267aba"
            },
            "attachments": {}
        },
        {
            "cell_type": "code",
            "source": [
                "SELECT * FROM dbo.Orders ORDER BY OrderDate DESC OFFSET 10 ROWS FETCH NEXT 10 ROWS ONLY;\r\n",
                ""
            ],
            "metadata": {
                "azdata_cell_guid": "03667420-f1ad-4f00-83a2-b1aa323b508a",
                "language": "sql"
            },
            "outputs": [
                {
                    "output_type": "display_data",
                    "data": {
                        "text/html": "(10 rows affected)"
                    },
                    "metadata": {}
                },
                {
                    "output_type": "display_data",
                    "data": {
                        "text/html": "Total execution time: 00:00:00.004"
                    },
                    "metadata": {}
                },
                {
                    "output_type": "execute_result",
                    "execution_count": 55,
                    "data": {
                        "application/vnd.dataresource+json": {
                            "schema": {
                                "fields": [
                                    {
                                        "name": "OrderID"
                                    },
                                    {
                                        "name": "CustomerID"
                                    },
                                    {
                                        "name": "EmployeeID"
                                    },
                                    {
                                        "name": "OrderDate"
                                    },
                                    {
                                        "name": "ShipperID"
                                    }
                                ]
                            },
                            "data": [
                                {
                                    "OrderID": "10434",
                                    "CustomerID": "24",
                                    "EmployeeID": "3",
                                    "OrderDate": "1997-02-03",
                                    "ShipperID": "2"
                                },
                                {
                                    "OrderID": "10432",
                                    "CustomerID": "75",
                                    "EmployeeID": "3",
                                    "OrderDate": "1997-01-31",
                                    "ShipperID": "2"
                                },
                                {
                                    "OrderID": "10430",
                                    "CustomerID": "20",
                                    "EmployeeID": "4",
                                    "OrderDate": "1997-01-30",
                                    "ShipperID": "1"
                                },
                                {
                                    "OrderID": "10431",
                                    "CustomerID": "10",
                                    "EmployeeID": "4",
                                    "OrderDate": "1997-01-30",
                                    "ShipperID": "2"
                                },
                                {
                                    "OrderID": "10429",
                                    "CustomerID": "37",
                                    "EmployeeID": "3",
                                    "OrderDate": "1997-01-29",
                                    "ShipperID": "2"
                                },
                                {
                                    "OrderID": "10428",
                                    "CustomerID": "66",
                                    "EmployeeID": "7",
                                    "OrderDate": "1997-01-28",
                                    "ShipperID": "1"
                                },
                                {
                                    "OrderID": "10426",
                                    "CustomerID": "29",
                                    "EmployeeID": "4",
                                    "OrderDate": "1997-01-27",
                                    "ShipperID": "1"
                                },
                                {
                                    "OrderID": "10427",
                                    "CustomerID": "59",
                                    "EmployeeID": "4",
                                    "OrderDate": "1997-01-27",
                                    "ShipperID": "2"
                                },
                                {
                                    "OrderID": "10425",
                                    "CustomerID": "41",
                                    "EmployeeID": "6",
                                    "OrderDate": "1997-01-24",
                                    "ShipperID": "2"
                                },
                                {
                                    "OrderID": "10423",
                                    "CustomerID": "31",
                                    "EmployeeID": "6",
                                    "OrderDate": "1997-01-23",
                                    "ShipperID": "3"
                                }
                            ]
                        },
                        "text/html": "<table><tr><th>OrderID</th><th>CustomerID</th><th>EmployeeID</th><th>OrderDate</th><th>ShipperID</th></tr><tr><td>10434</td><td>24</td><td>3</td><td>1997-02-03</td><td>2</td></tr><tr><td>10432</td><td>75</td><td>3</td><td>1997-01-31</td><td>2</td></tr><tr><td>10430</td><td>20</td><td>4</td><td>1997-01-30</td><td>1</td></tr><tr><td>10431</td><td>10</td><td>4</td><td>1997-01-30</td><td>2</td></tr><tr><td>10429</td><td>37</td><td>3</td><td>1997-01-29</td><td>2</td></tr><tr><td>10428</td><td>66</td><td>7</td><td>1997-01-28</td><td>1</td></tr><tr><td>10426</td><td>29</td><td>4</td><td>1997-01-27</td><td>1</td></tr><tr><td>10427</td><td>59</td><td>4</td><td>1997-01-27</td><td>2</td></tr><tr><td>10425</td><td>41</td><td>6</td><td>1997-01-24</td><td>2</td></tr><tr><td>10423</td><td>31</td><td>6</td><td>1997-01-23</td><td>3</td></tr></table>"
                    },
                    "metadata": {}
                }
            ],
            "execution_count": 55
        },
        {
            "cell_type": "markdown",
            "source": [
                " **Use MIN/MAX to Find Extreme Values**"
            ],
            "metadata": {
                "azdata_cell_guid": "0a76fa0e-1778-4a31-aaae-43121654beaf"
            },
            "attachments": {}
        },
        {
            "cell_type": "code",
            "source": [
                "SELECT MIN(Price) AS LowestPrice, MAX(Price) AS HighestPrice \r\n",
                "FROM dbo.Products;\r\n",
                ""
            ],
            "metadata": {
                "azdata_cell_guid": "159beeb9-6be0-46b5-ac38-7ec58cc34892",
                "language": "sql"
            },
            "outputs": [
                {
                    "output_type": "display_data",
                    "data": {
                        "text/html": "(1 row affected)"
                    },
                    "metadata": {}
                },
                {
                    "output_type": "display_data",
                    "data": {
                        "text/html": "Total execution time: 00:00:00.003"
                    },
                    "metadata": {}
                },
                {
                    "output_type": "execute_result",
                    "execution_count": 56,
                    "data": {
                        "application/vnd.dataresource+json": {
                            "schema": {
                                "fields": [
                                    {
                                        "name": "LowestPrice"
                                    },
                                    {
                                        "name": "HighestPrice"
                                    }
                                ]
                            },
                            "data": [
                                {
                                    "LowestPrice": "2.50",
                                    "HighestPrice": "263.50"
                                }
                            ]
                        },
                        "text/html": "<table><tr><th>LowestPrice</th><th>HighestPrice</th></tr><tr><td>2.50</td><td>263.50</td></tr></table>"
                    },
                    "metadata": {}
                }
            ],
            "execution_count": 56
        },
        {
            "cell_type": "markdown",
            "source": [
                "**Use SUM to Aggregate Numerical Data**"
            ],
            "metadata": {
                "azdata_cell_guid": "3f4d3ef2-9741-4f60-92bf-bf9e83c07bc3"
            },
            "attachments": {}
        },
        {
            "cell_type": "code",
            "source": [
                "SELECT SUM(Quantity) AS TotalQuantity FROM dbo.OrderDetails;\r\n",
                ""
            ],
            "metadata": {
                "azdata_cell_guid": "efecdb0d-10b2-4228-b04a-0d63d1756d0c",
                "language": "sql"
            },
            "outputs": [
                {
                    "output_type": "display_data",
                    "data": {
                        "text/html": "(1 row affected)"
                    },
                    "metadata": {}
                },
                {
                    "output_type": "display_data",
                    "data": {
                        "text/html": "Total execution time: 00:00:00.003"
                    },
                    "metadata": {}
                },
                {
                    "output_type": "execute_result",
                    "execution_count": 57,
                    "data": {
                        "application/vnd.dataresource+json": {
                            "schema": {
                                "fields": [
                                    {
                                        "name": "TotalQuantity"
                                    }
                                ]
                            },
                            "data": [
                                {
                                    "TotalQuantity": "12743"
                                }
                            ]
                        },
                        "text/html": "<table><tr><th>TotalQuantity</th></tr><tr><td>12743</td></tr></table>"
                    },
                    "metadata": {}
                }
            ],
            "execution_count": 57
        },
        {
            "cell_type": "markdown",
            "source": [
                "**Use UNION to Combine Results from Multiple Queries**"
            ],
            "metadata": {
                "azdata_cell_guid": "aa597158-4327-400e-bc10-2b334ea3c682"
            },
            "attachments": {}
        },
        {
            "cell_type": "code",
            "source": [
                "SELECT CustomerName FROM dbo.Customers \r\n",
                "UNION \r\n",
                "SELECT SupplierName FROM dbo.Suppliers;\r\n",
                ""
            ],
            "metadata": {
                "azdata_cell_guid": "b49a62d8-b913-4e5a-8432-c379e06838ff",
                "language": "sql"
            },
            "outputs": [
                {
                    "output_type": "display_data",
                    "data": {
                        "text/html": "(120 rows affected)"
                    },
                    "metadata": {}
                },
                {
                    "output_type": "display_data",
                    "data": {
                        "text/html": "Total execution time: 00:00:00.004"
                    },
                    "metadata": {}
                },
                {
                    "output_type": "execute_result",
                    "execution_count": 58,
                    "data": {
                        "application/vnd.dataresource+json": {
                            "schema": {
                                "fields": [
                                    {
                                        "name": "CustomerName"
                                    }
                                ]
                            },
                            "data": [
                                {
                                    "CustomerName": "Alfreds Futterkiste "
                                },
                                {
                                    "CustomerName": "Ana Trujillo Emparedados y helados "
                                },
                                {
                                    "CustomerName": "Antonio Moreno Taquería "
                                },
                                {
                                    "CustomerName": "Around the Horn "
                                },
                                {
                                    "CustomerName": "Aux joyeux ecclésiastiques "
                                },
                                {
                                    "CustomerName": "Berglunds snabbköp "
                                },
                                {
                                    "CustomerName": "Bigfoot Breweries "
                                },
                                {
                                    "CustomerName": "Blauer See Delikatessen "
                                },
                                {
                                    "CustomerName": "Blondel père et fils "
                                },
                                {
                                    "CustomerName": "Bólido Comidas preparadas "
                                },
                                {
                                    "CustomerName": "Bon app' "
                                },
                                {
                                    "CustomerName": "Bottom-Dollar Marketse "
                                },
                                {
                                    "CustomerName": "B's Beverages "
                                },
                                {
                                    "CustomerName": "Cactus Comidas para llevar "
                                },
                                {
                                    "CustomerName": "Centro comercial Moctezuma "
                                },
                                {
                                    "CustomerName": "Chop-suey Chinese "
                                },
                                {
                                    "CustomerName": "Comércio Mineiro "
                                },
                                {
                                    "CustomerName": "Consolidated Holdings "
                                },
                                {
                                    "CustomerName": "Cooperativa de Quesos 'Las Cabras' "
                                },
                                {
                                    "CustomerName": "Die Wandernde Kuh "
                                },
                                {
                                    "CustomerName": "Drachenblut Delikatessend "
                                },
                                {
                                    "CustomerName": "Du monde entier "
                                },
                                {
                                    "CustomerName": "Eastern Connection "
                                },
                                {
                                    "CustomerName": "Ernst Handel "
                                },
                                {
                                    "CustomerName": "Escargots Nouveaux "
                                },
                                {
                                    "CustomerName": "Exotic Liquid "
                                },
                                {
                                    "CustomerName": "Familia Arquibaldo "
                                },
                                {
                                    "CustomerName": "FISSA Fabrica Inter. Salchichas S.A. "
                                },
                                {
                                    "CustomerName": "Folies gourmandes "
                                },
                                {
                                    "CustomerName": "Folk och fä HB "
                                },
                                {
                                    "CustomerName": "Forêts d'érables "
                                },
                                {
                                    "CustomerName": "Formaggi Fortini s.r.l. "
                                },
                                {
                                    "CustomerName": "France restauration "
                                },
                                {
                                    "CustomerName": "Franchi S.p.A. "
                                },
                                {
                                    "CustomerName": "Frankenversand "
                                },
                                {
                                    "CustomerName": "Furia Bacalhau e Frutos do Mar "
                                },
                                {
                                    "CustomerName": "Gai pâturage "
                                },
                                {
                                    "CustomerName": "Galería del gastrónomo "
                                },
                                {
                                    "CustomerName": "G'day, Mate "
                                },
                                {
                                    "CustomerName": "Godos Cocina Típica "
                                },
                                {
                                    "CustomerName": "Gourmet Lanchonetes "
                                },
                                {
                                    "CustomerName": "Grandma Kelly's Homestead "
                                },
                                {
                                    "CustomerName": "Great Lakes Food Market "
                                },
                                {
                                    "CustomerName": "GROSELLA-Restaurante "
                                },
                                {
                                    "CustomerName": "Hanari Carnes "
                                },
                                {
                                    "CustomerName": "Heli Süßwaren GmbH & Co. KG "
                                },
                                {
                                    "CustomerName": "HILARIÓN-Abastos "
                                },
                                {
                                    "CustomerName": "Hungry Coyote Import Store "
                                },
                                {
                                    "CustomerName": "Hungry Owl All-Night Grocers "
                                },
                                {
                                    "CustomerName": "Island Trading "
                                },
                                {
                                    "CustomerName": "Karkki Oy "
                                },
                                {
                                    "CustomerName": "Königlich Essen "
                                },
                                {
                                    "CustomerName": "La corne d'abondance "
                                },
                                {
                                    "CustomerName": "La maison d'Asie "
                                },
                                {
                                    "CustomerName": "Laughing Bacchus Wine Cellars "
                                },
                                {
                                    "CustomerName": "Lazy K Kountry Store "
                                },
                                {
                                    "CustomerName": "Lehmanns Marktstand "
                                },
                                {
                                    "CustomerName": "Leka Trading "
                                },
                                {
                                    "CustomerName": "Let's Stop N Shop "
                                },
                                {
                                    "CustomerName": "LILA-Supermercado "
                                },
                                {
                                    "CustomerName": "LINO-Delicateses "
                                },
                                {
                                    "CustomerName": "Lonesome Pine Restaurant "
                                },
                                {
                                    "CustomerName": "Lyngbysild "
                                },
                                {
                                    "CustomerName": "Ma Maison "
                                },
                                {
                                    "CustomerName": "Magazzini Alimentari Riuniti "
                                },
                                {
                                    "CustomerName": "Maison Dewey "
                                },
                                {
                                    "CustomerName": "Mayumi's "
                                },
                                {
                                    "CustomerName": "Mère Paillarde "
                                },
                                {
                                    "CustomerName": "Morgenstern Gesundkost "
                                },
                                {
                                    "CustomerName": "New England Seafood Cannery "
                                },
                                {
                                    "CustomerName": "New Orleans Cajun Delights "
                                },
                                {
                                    "CustomerName": "Nord-Ost-Fisch Handelsgesellschaft mbH "
                                },
                                {
                                    "CustomerName": "Norske Meierier "
                                },
                                {
                                    "CustomerName": "North/South "
                                },
                                {
                                    "CustomerName": "Océano Atlántico Ltda. "
                                },
                                {
                                    "CustomerName": "Old World Delicatessen "
                                },
                                {
                                    "CustomerName": "Ottilies Käseladen "
                                },
                                {
                                    "CustomerName": "Paris spécialités "
                                },
                                {
                                    "CustomerName": "Pasta Buttini s.r.l. "
                                },
                                {
                                    "CustomerName": "Pavlova, Ltd. "
                                },
                                {
                                    "CustomerName": "PB Knäckebröd AB "
                                },
                                {
                                    "CustomerName": "Pericles Comidas clásicas "
                                },
                                {
                                    "CustomerName": "Piccolo und mehr "
                                },
                                {
                                    "CustomerName": "Plutzer Lebensmittelgroßmärkte AG "
                                },
                                {
                                    "CustomerName": "Princesa Isabel Vinhoss "
                                },
                                {
                                    "CustomerName": "Que Delícia "
                                },
                                {
                                    "CustomerName": "Queen Cozinha "
                                },
                                {
                                    "CustomerName": "QUICK-Stop "
                                },
                                {
                                    "CustomerName": "Rancho grande "
                                },
                                {
                                    "CustomerName": "Rattlesnake Canyon Grocery "
                                },
                                {
                                    "CustomerName": "Refrescos Americanas LTDA "
                                },
                                {
                                    "CustomerName": "Reggiani Caseifici "
                                },
                                {
                                    "CustomerName": "Ricardo Adocicados "
                                },
                                {
                                    "CustomerName": "Richter Supermarkt "
                                },
                                {
                                    "CustomerName": "Romero y tomillo "
                                },
                                {
                                    "CustomerName": "Santé Gourmet "
                                },
                                {
                                    "CustomerName": "Save-a-lot Markets "
                                },
                                {
                                    "CustomerName": "Seven Seas Imports "
                                },
                                {
                                    "CustomerName": "Simons bistro "
                                },
                                {
                                    "CustomerName": "Spécialités du monde "
                                },
                                {
                                    "CustomerName": "Specialty Biscuits, Ltd. "
                                },
                                {
                                    "CustomerName": "Split Rail Beer & Ale "
                                },
                                {
                                    "CustomerName": "Suprêmes délices "
                                },
                                {
                                    "CustomerName": "Svensk Sjöföda AB "
                                },
                                {
                                    "CustomerName": "The Big Cheese "
                                },
                                {
                                    "CustomerName": "The Cracker Box "
                                },
                                {
                                    "CustomerName": "Tokyo Traders "
                                },
                                {
                                    "CustomerName": "Toms Spezialitäten "
                                },
                                {
                                    "CustomerName": "Tortuga Restaurante "
                                },
                                {
                                    "CustomerName": "Tradição Hipermercados "
                                },
                                {
                                    "CustomerName": "Trail's Head Gourmet Provisioners "
                                },
                                {
                                    "CustomerName": "Vaffeljernet "
                                },
                                {
                                    "CustomerName": "Victuailles en stock "
                                },
                                {
                                    "CustomerName": "Vins et alcools Chevalier "
                                },
                                {
                                    "CustomerName": "Wartian Herkku "
                                },
                                {
                                    "CustomerName": "Wellington Importadora "
                                },
                                {
                                    "CustomerName": "White Clover Markets "
                                },
                                {
                                    "CustomerName": "Wilman Kala "
                                },
                                {
                                    "CustomerName": "Wolski "
                                },
                                {
                                    "CustomerName": "Zaanse Snoepfabriek "
                                }
                            ]
                        },
                        "text/html": "<table><tr><th>CustomerName</th></tr><tr><td>Alfreds Futterkiste </td></tr><tr><td>Ana Trujillo Emparedados y helados </td></tr><tr><td>Antonio Moreno Taquería </td></tr><tr><td>Around the Horn </td></tr><tr><td>Aux joyeux ecclésiastiques </td></tr><tr><td>Berglunds snabbköp </td></tr><tr><td>Bigfoot Breweries </td></tr><tr><td>Blauer See Delikatessen </td></tr><tr><td>Blondel père et fils </td></tr><tr><td>Bólido Comidas preparadas </td></tr><tr><td>Bon app&#39; </td></tr><tr><td>Bottom-Dollar Marketse </td></tr><tr><td>B&#39;s Beverages </td></tr><tr><td>Cactus Comidas para llevar </td></tr><tr><td>Centro comercial Moctezuma </td></tr><tr><td>Chop-suey Chinese </td></tr><tr><td>Comércio Mineiro </td></tr><tr><td>Consolidated Holdings </td></tr><tr><td>Cooperativa de Quesos &#39;Las Cabras&#39; </td></tr><tr><td>Die Wandernde Kuh </td></tr><tr><td>Drachenblut Delikatessend </td></tr><tr><td>Du monde entier </td></tr><tr><td>Eastern Connection </td></tr><tr><td>Ernst Handel </td></tr><tr><td>Escargots Nouveaux </td></tr><tr><td>Exotic Liquid </td></tr><tr><td>Familia Arquibaldo </td></tr><tr><td>FISSA Fabrica Inter. Salchichas S.A. </td></tr><tr><td>Folies gourmandes </td></tr><tr><td>Folk och fä HB </td></tr><tr><td>Forêts d&#39;érables </td></tr><tr><td>Formaggi Fortini s.r.l. </td></tr><tr><td>France restauration </td></tr><tr><td>Franchi S.p.A. </td></tr><tr><td>Frankenversand </td></tr><tr><td>Furia Bacalhau e Frutos do Mar </td></tr><tr><td>Gai pâturage </td></tr><tr><td>Galería del gastrónomo </td></tr><tr><td>G&#39;day, Mate </td></tr><tr><td>Godos Cocina Típica </td></tr><tr><td>Gourmet Lanchonetes </td></tr><tr><td>Grandma Kelly&#39;s Homestead </td></tr><tr><td>Great Lakes Food Market </td></tr><tr><td>GROSELLA-Restaurante </td></tr><tr><td>Hanari Carnes </td></tr><tr><td>Heli Süßwaren GmbH &amp; Co. KG </td></tr><tr><td>HILARIÓN-Abastos </td></tr><tr><td>Hungry Coyote Import Store </td></tr><tr><td>Hungry Owl All-Night Grocers </td></tr><tr><td>Island Trading </td></tr><tr><td>Karkki Oy </td></tr><tr><td>Königlich Essen </td></tr><tr><td>La corne d&#39;abondance </td></tr><tr><td>La maison d&#39;Asie </td></tr><tr><td>Laughing Bacchus Wine Cellars </td></tr><tr><td>Lazy K Kountry Store </td></tr><tr><td>Lehmanns Marktstand </td></tr><tr><td>Leka Trading </td></tr><tr><td>Let&#39;s Stop N Shop </td></tr><tr><td>LILA-Supermercado </td></tr><tr><td>LINO-Delicateses </td></tr><tr><td>Lonesome Pine Restaurant </td></tr><tr><td>Lyngbysild </td></tr><tr><td>Ma Maison </td></tr><tr><td>Magazzini Alimentari Riuniti </td></tr><tr><td>Maison Dewey </td></tr><tr><td>Mayumi&#39;s </td></tr><tr><td>Mère Paillarde </td></tr><tr><td>Morgenstern Gesundkost </td></tr><tr><td>New England Seafood Cannery </td></tr><tr><td>New Orleans Cajun Delights </td></tr><tr><td>Nord-Ost-Fisch Handelsgesellschaft mbH </td></tr><tr><td>Norske Meierier </td></tr><tr><td>North/South </td></tr><tr><td>Océano Atlántico Ltda. </td></tr><tr><td>Old World Delicatessen </td></tr><tr><td>Ottilies Käseladen </td></tr><tr><td>Paris spécialités </td></tr><tr><td>Pasta Buttini s.r.l. </td></tr><tr><td>Pavlova, Ltd. </td></tr><tr><td>PB Knäckebröd AB </td></tr><tr><td>Pericles Comidas clásicas </td></tr><tr><td>Piccolo und mehr </td></tr><tr><td>Plutzer Lebensmittelgroßmärkte AG </td></tr><tr><td>Princesa Isabel Vinhoss </td></tr><tr><td>Que Delícia </td></tr><tr><td>Queen Cozinha </td></tr><tr><td>QUICK-Stop </td></tr><tr><td>Rancho grande </td></tr><tr><td>Rattlesnake Canyon Grocery </td></tr><tr><td>Refrescos Americanas LTDA </td></tr><tr><td>Reggiani Caseifici </td></tr><tr><td>Ricardo Adocicados </td></tr><tr><td>Richter Supermarkt </td></tr><tr><td>Romero y tomillo </td></tr><tr><td>Santé Gourmet </td></tr><tr><td>Save-a-lot Markets </td></tr><tr><td>Seven Seas Imports </td></tr><tr><td>Simons bistro </td></tr><tr><td>Spécialités du monde </td></tr><tr><td>Specialty Biscuits, Ltd. </td></tr><tr><td>Split Rail Beer &amp; Ale </td></tr><tr><td>Suprêmes délices </td></tr><tr><td>Svensk Sjöföda AB </td></tr><tr><td>The Big Cheese </td></tr><tr><td>The Cracker Box </td></tr><tr><td>Tokyo Traders </td></tr><tr><td>Toms Spezialitäten </td></tr><tr><td>Tortuga Restaurante </td></tr><tr><td>Tradição Hipermercados </td></tr><tr><td>Trail&#39;s Head Gourmet Provisioners </td></tr><tr><td>Vaffeljernet </td></tr><tr><td>Victuailles en stock </td></tr><tr><td>Vins et alcools Chevalier </td></tr><tr><td>Wartian Herkku </td></tr><tr><td>Wellington Importadora </td></tr><tr><td>White Clover Markets </td></tr><tr><td>Wilman Kala </td></tr><tr><td>Wolski </td></tr><tr><td>Zaanse Snoepfabriek </td></tr></table>"
                    },
                    "metadata": {}
                }
            ],
            "execution_count": 58
        },
        {
            "cell_type": "markdown",
            "source": [
                "**INNER JOIN to Retrieve Matching Rows Only**"
            ],
            "metadata": {
                "azdata_cell_guid": "44d1ce30-5bb5-4c2c-9daa-1720e6f9745e"
            },
            "attachments": {}
        },
        {
            "cell_type": "code",
            "source": [
                "SELECT Orders.OrderID, Customers.CustomerName \r\n",
                "FROM dbo.Orders \r\n",
                "INNER JOIN dbo.Customers ON Orders.CustomerID = Customers.CustomerID;\r\n",
                ""
            ],
            "metadata": {
                "azdata_cell_guid": "dbd4bc47-8142-4d16-9075-8c262859a16b",
                "language": "sql"
            },
            "outputs": [
                {
                    "output_type": "display_data",
                    "data": {
                        "text/html": "(196 rows affected)"
                    },
                    "metadata": {}
                },
                {
                    "output_type": "display_data",
                    "data": {
                        "text/html": "Total execution time: 00:00:00.013"
                    },
                    "metadata": {}
                },
                {
                    "output_type": "execute_result",
                    "execution_count": 59,
                    "data": {
                        "application/vnd.dataresource+json": {
                            "schema": {
                                "fields": [
                                    {
                                        "name": "OrderID"
                                    },
                                    {
                                        "name": "CustomerName"
                                    }
                                ]
                            },
                            "data": [
                                {
                                    "OrderID": "10308",
                                    "CustomerName": "Ana Trujillo Emparedados y helados "
                                },
                                {
                                    "OrderID": "10365",
                                    "CustomerName": "Antonio Moreno Taquería "
                                },
                                {
                                    "OrderID": "10355",
                                    "CustomerName": "Around the Horn "
                                },
                                {
                                    "OrderID": "10383",
                                    "CustomerName": "Around the Horn "
                                },
                                {
                                    "OrderID": "10384",
                                    "CustomerName": "Berglunds snabbköp "
                                },
                                {
                                    "OrderID": "10278",
                                    "CustomerName": "Berglunds snabbköp "
                                },
                                {
                                    "OrderID": "10280",
                                    "CustomerName": "Berglunds snabbköp "
                                },
                                {
                                    "OrderID": "10265",
                                    "CustomerName": "Blondel père et fils "
                                },
                                {
                                    "OrderID": "10297",
                                    "CustomerName": "Blondel père et fils "
                                },
                                {
                                    "OrderID": "10360",
                                    "CustomerName": "Blondel père et fils "
                                },
                                {
                                    "OrderID": "10436",
                                    "CustomerName": "Blondel père et fils "
                                },
                                {
                                    "OrderID": "10326",
                                    "CustomerName": "Bólido Comidas preparadas "
                                },
                                {
                                    "OrderID": "10331",
                                    "CustomerName": "Bon app' "
                                },
                                {
                                    "OrderID": "10340",
                                    "CustomerName": "Bon app' "
                                },
                                {
                                    "OrderID": "10362",
                                    "CustomerName": "Bon app' "
                                },
                                {
                                    "OrderID": "10389",
                                    "CustomerName": "Bottom-Dollar Marketse "
                                },
                                {
                                    "OrderID": "10431",
                                    "CustomerName": "Bottom-Dollar Marketse "
                                },
                                {
                                    "OrderID": "10410",
                                    "CustomerName": "Bottom-Dollar Marketse "
                                },
                                {
                                    "OrderID": "10411",
                                    "CustomerName": "Bottom-Dollar Marketse "
                                },
                                {
                                    "OrderID": "10289",
                                    "CustomerName": "B's Beverages "
                                },
                                {
                                    "OrderID": "10259",
                                    "CustomerName": "Centro comercial Moctezuma "
                                },
                                {
                                    "OrderID": "10254",
                                    "CustomerName": "Chop-suey Chinese "
                                },
                                {
                                    "OrderID": "10370",
                                    "CustomerName": "Chop-suey Chinese "
                                },
                                {
                                    "OrderID": "10290",
                                    "CustomerName": "Comércio Mineiro "
                                },
                                {
                                    "OrderID": "10435",
                                    "CustomerName": "Consolidated Holdings "
                                },
                                {
                                    "OrderID": "10391",
                                    "CustomerName": "Drachenblut Delikatessend "
                                },
                                {
                                    "OrderID": "10363",
                                    "CustomerName": "Drachenblut Delikatessend "
                                },
                                {
                                    "OrderID": "10311",
                                    "CustomerName": "Du monde entier "
                                },
                                {
                                    "OrderID": "10364",
                                    "CustomerName": "Eastern Connection "
                                },
                                {
                                    "OrderID": "10400",
                                    "CustomerName": "Eastern Connection "
                                },
                                {
                                    "OrderID": "10402",
                                    "CustomerName": "Ernst Handel "
                                },
                                {
                                    "OrderID": "10403",
                                    "CustomerName": "Ernst Handel "
                                },
                                {
                                    "OrderID": "10430",
                                    "CustomerName": "Ernst Handel "
                                },
                                {
                                    "OrderID": "10442",
                                    "CustomerName": "Ernst Handel "
                                },
                                {
                                    "OrderID": "10368",
                                    "CustomerName": "Ernst Handel "
                                },
                                {
                                    "OrderID": "10390",
                                    "CustomerName": "Ernst Handel "
                                },
                                {
                                    "OrderID": "10382",
                                    "CustomerName": "Ernst Handel "
                                },
                                {
                                    "OrderID": "10351",
                                    "CustomerName": "Ernst Handel "
                                },
                                {
                                    "OrderID": "10258",
                                    "CustomerName": "Ernst Handel "
                                },
                                {
                                    "OrderID": "10263",
                                    "CustomerName": "Ernst Handel "
                                },
                                {
                                    "OrderID": "10347",
                                    "CustomerName": "Familia Arquibaldo "
                                },
                                {
                                    "OrderID": "10386",
                                    "CustomerName": "Familia Arquibaldo "
                                },
                                {
                                    "OrderID": "10414",
                                    "CustomerName": "Familia Arquibaldo "
                                },
                                {
                                    "OrderID": "10408",
                                    "CustomerName": "Folies gourmandes "
                                },
                                {
                                    "OrderID": "10434",
                                    "CustomerName": "Folk och fä HB "
                                },
                                {
                                    "OrderID": "10378",
                                    "CustomerName": "Folk och fä HB "
                                },
                                {
                                    "OrderID": "10327",
                                    "CustomerName": "Folk och fä HB "
                                },
                                {
                                    "OrderID": "10264",
                                    "CustomerName": "Folk och fä HB "
                                },
                                {
                                    "OrderID": "10267",
                                    "CustomerName": "Frankenversand "
                                },
                                {
                                    "OrderID": "10342",
                                    "CustomerName": "Frankenversand "
                                },
                                {
                                    "OrderID": "10337",
                                    "CustomerName": "Frankenversand "
                                },
                                {
                                    "OrderID": "10396",
                                    "CustomerName": "Frankenversand "
                                },
                                {
                                    "OrderID": "10422",
                                    "CustomerName": "Franchi S.p.A. "
                                },
                                {
                                    "OrderID": "10352",
                                    "CustomerName": "Furia Bacalhau e Frutos do Mar "
                                },
                                {
                                    "OrderID": "10328",
                                    "CustomerName": "Furia Bacalhau e Frutos do Mar "
                                },
                                {
                                    "OrderID": "10366",
                                    "CustomerName": "Galería del gastrónomo "
                                },
                                {
                                    "OrderID": "10426",
                                    "CustomerName": "Galería del gastrónomo "
                                },
                                {
                                    "OrderID": "10303",
                                    "CustomerName": "Godos Cocina Típica "
                                },
                                {
                                    "OrderID": "10423",
                                    "CustomerName": "Gourmet Lanchonetes "
                                },
                                {
                                    "OrderID": "10268",
                                    "CustomerName": "GROSELLA-Restaurante "
                                },
                                {
                                    "OrderID": "10253",
                                    "CustomerName": "Hanari Carnes "
                                },
                                {
                                    "OrderID": "10250",
                                    "CustomerName": "Hanari Carnes "
                                },
                                {
                                    "OrderID": "10257",
                                    "CustomerName": "HILARIÓN-Abastos "
                                },
                                {
                                    "OrderID": "10395",
                                    "CustomerName": "HILARIÓN-Abastos "
                                },
                                {
                                    "OrderID": "10394",
                                    "CustomerName": "Hungry Coyote Import Store "
                                },
                                {
                                    "OrderID": "10415",
                                    "CustomerName": "Hungry Coyote Import Store "
                                },
                                {
                                    "OrderID": "10375",
                                    "CustomerName": "Hungry Coyote Import Store "
                                },
                                {
                                    "OrderID": "10373",
                                    "CustomerName": "Hungry Owl All-Night Grocers "
                                },
                                {
                                    "OrderID": "10380",
                                    "CustomerName": "Hungry Owl All-Night Grocers "
                                },
                                {
                                    "OrderID": "10335",
                                    "CustomerName": "Hungry Owl All-Night Grocers "
                                },
                                {
                                    "OrderID": "10309",
                                    "CustomerName": "Hungry Owl All-Night Grocers "
                                },
                                {
                                    "OrderID": "10298",
                                    "CustomerName": "Hungry Owl All-Night Grocers "
                                },
                                {
                                    "OrderID": "10429",
                                    "CustomerName": "Hungry Owl All-Night Grocers "
                                },
                                {
                                    "OrderID": "10315",
                                    "CustomerName": "Island Trading "
                                },
                                {
                                    "OrderID": "10318",
                                    "CustomerName": "Island Trading "
                                },
                                {
                                    "OrderID": "10321",
                                    "CustomerName": "Island Trading "
                                },
                                {
                                    "OrderID": "10323",
                                    "CustomerName": "Königlich Essen "
                                },
                                {
                                    "OrderID": "10325",
                                    "CustomerName": "Königlich Essen "
                                },
                                {
                                    "OrderID": "10371",
                                    "CustomerName": "La maison d'Asie "
                                },
                                {
                                    "OrderID": "10358",
                                    "CustomerName": "La maison d'Asie "
                                },
                                {
                                    "OrderID": "10350",
                                    "CustomerName": "La maison d'Asie "
                                },
                                {
                                    "OrderID": "10425",
                                    "CustomerName": "La maison d'Asie "
                                },
                                {
                                    "OrderID": "10413",
                                    "CustomerName": "La maison d'Asie "
                                },
                                {
                                    "OrderID": "10343",
                                    "CustomerName": "Lehmanns Marktstand "
                                },
                                {
                                    "OrderID": "10284",
                                    "CustomerName": "Lehmanns Marktstand "
                                },
                                {
                                    "OrderID": "10279",
                                    "CustomerName": "Lehmanns Marktstand "
                                },
                                {
                                    "OrderID": "10296",
                                    "CustomerName": "LILA-Supermercado "
                                },
                                {
                                    "OrderID": "10283",
                                    "CustomerName": "LILA-Supermercado "
                                },
                                {
                                    "OrderID": "10330",
                                    "CustomerName": "LILA-Supermercado "
                                },
                                {
                                    "OrderID": "10381",
                                    "CustomerName": "LILA-Supermercado "
                                },
                                {
                                    "OrderID": "10357",
                                    "CustomerName": "LILA-Supermercado "
                                },
                                {
                                    "OrderID": "10405",
                                    "CustomerName": "LINO-Delicateses "
                                },
                                {
                                    "OrderID": "10317",
                                    "CustomerName": "Lonesome Pine Restaurant "
                                },
                                {
                                    "OrderID": "10307",
                                    "CustomerName": "Lonesome Pine Restaurant "
                                },
                                {
                                    "OrderID": "10300",
                                    "CustomerName": "Magazzini Alimentari Riuniti "
                                },
                                {
                                    "OrderID": "10275",
                                    "CustomerName": "Magazzini Alimentari Riuniti "
                                },
                                {
                                    "OrderID": "10404",
                                    "CustomerName": "Magazzini Alimentari Riuniti "
                                },
                                {
                                    "OrderID": "10424",
                                    "CustomerName": "Mère Paillarde "
                                },
                                {
                                    "OrderID": "10439",
                                    "CustomerName": "Mère Paillarde "
                                },
                                {
                                    "OrderID": "10332",
                                    "CustomerName": "Mère Paillarde "
                                },
                                {
                                    "OrderID": "10339",
                                    "CustomerName": "Mère Paillarde "
                                },
                                {
                                    "OrderID": "10376",
                                    "CustomerName": "Mère Paillarde "
                                },
                                {
                                    "OrderID": "10277",
                                    "CustomerName": "Morgenstern Gesundkost "
                                },
                                {
                                    "OrderID": "10409",
                                    "CustomerName": "Océano Atlántico Ltda. "
                                },
                                {
                                    "OrderID": "10441",
                                    "CustomerName": "Old World Delicatessen "
                                },
                                {
                                    "OrderID": "10260",
                                    "CustomerName": "Old World Delicatessen "
                                },
                                {
                                    "OrderID": "10305",
                                    "CustomerName": "Old World Delicatessen "
                                },
                                {
                                    "OrderID": "10338",
                                    "CustomerName": "Old World Delicatessen "
                                },
                                {
                                    "OrderID": "10407",
                                    "CustomerName": "Ottilies Käseladen "
                                },
                                {
                                    "OrderID": "10322",
                                    "CustomerName": "Pericles Comidas clásicas "
                                },
                                {
                                    "OrderID": "10354",
                                    "CustomerName": "Pericles Comidas clásicas "
                                },
                                {
                                    "OrderID": "10353",
                                    "CustomerName": "Piccolo und mehr "
                                },
                                {
                                    "OrderID": "10427",
                                    "CustomerName": "Piccolo und mehr "
                                },
                                {
                                    "OrderID": "10392",
                                    "CustomerName": "Piccolo und mehr "
                                },
                                {
                                    "OrderID": "10397",
                                    "CustomerName": "Princesa Isabel Vinhoss "
                                },
                                {
                                    "OrderID": "10433",
                                    "CustomerName": "Princesa Isabel Vinhoss "
                                },
                                {
                                    "OrderID": "10336",
                                    "CustomerName": "Princesa Isabel Vinhoss "
                                },
                                {
                                    "OrderID": "10379",
                                    "CustomerName": "Que Delícia "
                                },
                                {
                                    "OrderID": "10291",
                                    "CustomerName": "Que Delícia "
                                },
                                {
                                    "OrderID": "10261",
                                    "CustomerName": "Que Delícia "
                                },
                                {
                                    "OrderID": "10421",
                                    "CustomerName": "Que Delícia "
                                },
                                {
                                    "OrderID": "10406",
                                    "CustomerName": "Queen Cozinha "
                                },
                                {
                                    "OrderID": "10372",
                                    "CustomerName": "Queen Cozinha "
                                },
                                {
                                    "OrderID": "10361",
                                    "CustomerName": "QUICK-Stop "
                                },
                                {
                                    "OrderID": "10345",
                                    "CustomerName": "QUICK-Stop "
                                },
                                {
                                    "OrderID": "10273",
                                    "CustomerName": "QUICK-Stop "
                                },
                                {
                                    "OrderID": "10285",
                                    "CustomerName": "QUICK-Stop "
                                },
                                {
                                    "OrderID": "10286",
                                    "CustomerName": "QUICK-Stop "
                                },
                                {
                                    "OrderID": "10313",
                                    "CustomerName": "QUICK-Stop "
                                },
                                {
                                    "OrderID": "10418",
                                    "CustomerName": "QUICK-Stop "
                                },
                                {
                                    "OrderID": "10401",
                                    "CustomerName": "Rattlesnake Canyon Grocery "
                                },
                                {
                                    "OrderID": "10314",
                                    "CustomerName": "Rattlesnake Canyon Grocery "
                                },
                                {
                                    "OrderID": "10316",
                                    "CustomerName": "Rattlesnake Canyon Grocery "
                                },
                                {
                                    "OrderID": "10294",
                                    "CustomerName": "Rattlesnake Canyon Grocery "
                                },
                                {
                                    "OrderID": "10272",
                                    "CustomerName": "Rattlesnake Canyon Grocery "
                                },
                                {
                                    "OrderID": "10262",
                                    "CustomerName": "Rattlesnake Canyon Grocery "
                                },
                                {
                                    "OrderID": "10346",
                                    "CustomerName": "Rattlesnake Canyon Grocery "
                                },
                                {
                                    "OrderID": "10288",
                                    "CustomerName": "Reggiani Caseifici "
                                },
                                {
                                    "OrderID": "10428",
                                    "CustomerName": "Reggiani Caseifici "
                                },
                                {
                                    "OrderID": "10443",
                                    "CustomerName": "Reggiani Caseifici "
                                },
                                {
                                    "OrderID": "10299",
                                    "CustomerName": "Ricardo Adocicados "
                                },
                                {
                                    "OrderID": "10287",
                                    "CustomerName": "Ricardo Adocicados "
                                },
                                {
                                    "OrderID": "10255",
                                    "CustomerName": "Richter Supermarkt "
                                },
                                {
                                    "OrderID": "10419",
                                    "CustomerName": "Richter Supermarkt "
                                },
                                {
                                    "OrderID": "10281",
                                    "CustomerName": "Romero y tomillo "
                                },
                                {
                                    "OrderID": "10282",
                                    "CustomerName": "Romero y tomillo "
                                },
                                {
                                    "OrderID": "10306",
                                    "CustomerName": "Romero y tomillo "
                                },
                                {
                                    "OrderID": "10387",
                                    "CustomerName": "Santé Gourmet "
                                },
                                {
                                    "OrderID": "10324",
                                    "CustomerName": "Save-a-lot Markets "
                                },
                                {
                                    "OrderID": "10398",
                                    "CustomerName": "Save-a-lot Markets "
                                },
                                {
                                    "OrderID": "10393",
                                    "CustomerName": "Save-a-lot Markets "
                                },
                                {
                                    "OrderID": "10440",
                                    "CustomerName": "Save-a-lot Markets "
                                },
                                {
                                    "OrderID": "10388",
                                    "CustomerName": "Seven Seas Imports "
                                },
                                {
                                    "OrderID": "10377",
                                    "CustomerName": "Seven Seas Imports "
                                },
                                {
                                    "OrderID": "10359",
                                    "CustomerName": "Seven Seas Imports "
                                },
                                {
                                    "OrderID": "10341",
                                    "CustomerName": "Simons bistro "
                                },
                                {
                                    "OrderID": "10417",
                                    "CustomerName": "Simons bistro "
                                },
                                {
                                    "OrderID": "10432",
                                    "CustomerName": "Split Rail Beer & Ale "
                                },
                                {
                                    "OrderID": "10349",
                                    "CustomerName": "Split Rail Beer & Ale "
                                },
                                {
                                    "OrderID": "10329",
                                    "CustomerName": "Split Rail Beer & Ale "
                                },
                                {
                                    "OrderID": "10369",
                                    "CustomerName": "Split Rail Beer & Ale "
                                },
                                {
                                    "OrderID": "10385",
                                    "CustomerName": "Split Rail Beer & Ale "
                                },
                                {
                                    "OrderID": "10271",
                                    "CustomerName": "Split Rail Beer & Ale "
                                },
                                {
                                    "OrderID": "10252",
                                    "CustomerName": "Suprêmes délices "
                                },
                                {
                                    "OrderID": "10302",
                                    "CustomerName": "Suprêmes délices "
                                },
                                {
                                    "OrderID": "10310",
                                    "CustomerName": "The Big Cheese "
                                },
                                {
                                    "OrderID": "10438",
                                    "CustomerName": "Toms Spezialitäten "
                                },
                                {
                                    "OrderID": "10304",
                                    "CustomerName": "Tortuga Restaurante "
                                },
                                {
                                    "OrderID": "10293",
                                    "CustomerName": "Tortuga Restaurante "
                                },
                                {
                                    "OrderID": "10276",
                                    "CustomerName": "Tortuga Restaurante "
                                },
                                {
                                    "OrderID": "10319",
                                    "CustomerName": "Tortuga Restaurante "
                                },
                                {
                                    "OrderID": "10249",
                                    "CustomerName": "Tradição Hipermercados "
                                },
                                {
                                    "OrderID": "10292",
                                    "CustomerName": "Tradição Hipermercados "
                                },
                                {
                                    "OrderID": "10367",
                                    "CustomerName": "Vaffeljernet "
                                },
                                {
                                    "OrderID": "10399",
                                    "CustomerName": "Vaffeljernet "
                                },
                                {
                                    "OrderID": "10334",
                                    "CustomerName": "Victuailles en stock "
                                },
                                {
                                    "OrderID": "10251",
                                    "CustomerName": "Victuailles en stock "
                                },
                                {
                                    "OrderID": "10274",
                                    "CustomerName": "Vins et alcools Chevalier "
                                },
                                {
                                    "OrderID": "10295",
                                    "CustomerName": "Vins et alcools Chevalier "
                                },
                                {
                                    "OrderID": "10301",
                                    "CustomerName": "Die Wandernde Kuh "
                                },
                                {
                                    "OrderID": "10312",
                                    "CustomerName": "Die Wandernde Kuh "
                                },
                                {
                                    "OrderID": "10348",
                                    "CustomerName": "Die Wandernde Kuh "
                                },
                                {
                                    "OrderID": "10356",
                                    "CustomerName": "Die Wandernde Kuh "
                                },
                                {
                                    "OrderID": "10333",
                                    "CustomerName": "Wartian Herkku "
                                },
                                {
                                    "OrderID": "10320",
                                    "CustomerName": "Wartian Herkku "
                                },
                                {
                                    "OrderID": "10270",
                                    "CustomerName": "Wartian Herkku "
                                },
                                {
                                    "OrderID": "10266",
                                    "CustomerName": "Wartian Herkku "
                                },
                                {
                                    "OrderID": "10416",
                                    "CustomerName": "Wartian Herkku "
                                },
                                {
                                    "OrderID": "10412",
                                    "CustomerName": "Wartian Herkku "
                                },
                                {
                                    "OrderID": "10437",
                                    "CustomerName": "Wartian Herkku "
                                },
                                {
                                    "OrderID": "10420",
                                    "CustomerName": "Wellington Importadora "
                                },
                                {
                                    "OrderID": "10256",
                                    "CustomerName": "Wellington Importadora "
                                },
                                {
                                    "OrderID": "10269",
                                    "CustomerName": "White Clover Markets "
                                },
                                {
                                    "OrderID": "10344",
                                    "CustomerName": "White Clover Markets "
                                },
                                {
                                    "OrderID": "10248",
                                    "CustomerName": "Wilman Kala "
                                },
                                {
                                    "OrderID": "10374",
                                    "CustomerName": "Wolski "
                                }
                            ]
                        },
                        "text/html": "<table><tr><th>OrderID</th><th>CustomerName</th></tr><tr><td>10308</td><td>Ana Trujillo Emparedados y helados </td></tr><tr><td>10365</td><td>Antonio Moreno Taquería </td></tr><tr><td>10355</td><td>Around the Horn </td></tr><tr><td>10383</td><td>Around the Horn </td></tr><tr><td>10384</td><td>Berglunds snabbköp </td></tr><tr><td>10278</td><td>Berglunds snabbköp </td></tr><tr><td>10280</td><td>Berglunds snabbköp </td></tr><tr><td>10265</td><td>Blondel père et fils </td></tr><tr><td>10297</td><td>Blondel père et fils </td></tr><tr><td>10360</td><td>Blondel père et fils </td></tr><tr><td>10436</td><td>Blondel père et fils </td></tr><tr><td>10326</td><td>Bólido Comidas preparadas </td></tr><tr><td>10331</td><td>Bon app&#39; </td></tr><tr><td>10340</td><td>Bon app&#39; </td></tr><tr><td>10362</td><td>Bon app&#39; </td></tr><tr><td>10389</td><td>Bottom-Dollar Marketse </td></tr><tr><td>10431</td><td>Bottom-Dollar Marketse </td></tr><tr><td>10410</td><td>Bottom-Dollar Marketse </td></tr><tr><td>10411</td><td>Bottom-Dollar Marketse </td></tr><tr><td>10289</td><td>B&#39;s Beverages </td></tr><tr><td>10259</td><td>Centro comercial Moctezuma </td></tr><tr><td>10254</td><td>Chop-suey Chinese </td></tr><tr><td>10370</td><td>Chop-suey Chinese </td></tr><tr><td>10290</td><td>Comércio Mineiro </td></tr><tr><td>10435</td><td>Consolidated Holdings </td></tr><tr><td>10391</td><td>Drachenblut Delikatessend </td></tr><tr><td>10363</td><td>Drachenblut Delikatessend </td></tr><tr><td>10311</td><td>Du monde entier </td></tr><tr><td>10364</td><td>Eastern Connection </td></tr><tr><td>10400</td><td>Eastern Connection </td></tr><tr><td>10402</td><td>Ernst Handel </td></tr><tr><td>10403</td><td>Ernst Handel </td></tr><tr><td>10430</td><td>Ernst Handel </td></tr><tr><td>10442</td><td>Ernst Handel </td></tr><tr><td>10368</td><td>Ernst Handel </td></tr><tr><td>10390</td><td>Ernst Handel </td></tr><tr><td>10382</td><td>Ernst Handel </td></tr><tr><td>10351</td><td>Ernst Handel </td></tr><tr><td>10258</td><td>Ernst Handel </td></tr><tr><td>10263</td><td>Ernst Handel </td></tr><tr><td>10347</td><td>Familia Arquibaldo </td></tr><tr><td>10386</td><td>Familia Arquibaldo </td></tr><tr><td>10414</td><td>Familia Arquibaldo </td></tr><tr><td>10408</td><td>Folies gourmandes </td></tr><tr><td>10434</td><td>Folk och fä HB </td></tr><tr><td>10378</td><td>Folk och fä HB </td></tr><tr><td>10327</td><td>Folk och fä HB </td></tr><tr><td>10264</td><td>Folk och fä HB </td></tr><tr><td>10267</td><td>Frankenversand </td></tr><tr><td>10342</td><td>Frankenversand </td></tr><tr><td>10337</td><td>Frankenversand </td></tr><tr><td>10396</td><td>Frankenversand </td></tr><tr><td>10422</td><td>Franchi S.p.A. </td></tr><tr><td>10352</td><td>Furia Bacalhau e Frutos do Mar </td></tr><tr><td>10328</td><td>Furia Bacalhau e Frutos do Mar </td></tr><tr><td>10366</td><td>Galería del gastrónomo </td></tr><tr><td>10426</td><td>Galería del gastrónomo </td></tr><tr><td>10303</td><td>Godos Cocina Típica </td></tr><tr><td>10423</td><td>Gourmet Lanchonetes </td></tr><tr><td>10268</td><td>GROSELLA-Restaurante </td></tr><tr><td>10253</td><td>Hanari Carnes </td></tr><tr><td>10250</td><td>Hanari Carnes </td></tr><tr><td>10257</td><td>HILARIÓN-Abastos </td></tr><tr><td>10395</td><td>HILARIÓN-Abastos </td></tr><tr><td>10394</td><td>Hungry Coyote Import Store </td></tr><tr><td>10415</td><td>Hungry Coyote Import Store </td></tr><tr><td>10375</td><td>Hungry Coyote Import Store </td></tr><tr><td>10373</td><td>Hungry Owl All-Night Grocers </td></tr><tr><td>10380</td><td>Hungry Owl All-Night Grocers </td></tr><tr><td>10335</td><td>Hungry Owl All-Night Grocers </td></tr><tr><td>10309</td><td>Hungry Owl All-Night Grocers </td></tr><tr><td>10298</td><td>Hungry Owl All-Night Grocers </td></tr><tr><td>10429</td><td>Hungry Owl All-Night Grocers </td></tr><tr><td>10315</td><td>Island Trading </td></tr><tr><td>10318</td><td>Island Trading </td></tr><tr><td>10321</td><td>Island Trading </td></tr><tr><td>10323</td><td>Königlich Essen </td></tr><tr><td>10325</td><td>Königlich Essen </td></tr><tr><td>10371</td><td>La maison d&#39;Asie </td></tr><tr><td>10358</td><td>La maison d&#39;Asie </td></tr><tr><td>10350</td><td>La maison d&#39;Asie </td></tr><tr><td>10425</td><td>La maison d&#39;Asie </td></tr><tr><td>10413</td><td>La maison d&#39;Asie </td></tr><tr><td>10343</td><td>Lehmanns Marktstand </td></tr><tr><td>10284</td><td>Lehmanns Marktstand </td></tr><tr><td>10279</td><td>Lehmanns Marktstand </td></tr><tr><td>10296</td><td>LILA-Supermercado </td></tr><tr><td>10283</td><td>LILA-Supermercado </td></tr><tr><td>10330</td><td>LILA-Supermercado </td></tr><tr><td>10381</td><td>LILA-Supermercado </td></tr><tr><td>10357</td><td>LILA-Supermercado </td></tr><tr><td>10405</td><td>LINO-Delicateses </td></tr><tr><td>10317</td><td>Lonesome Pine Restaurant </td></tr><tr><td>10307</td><td>Lonesome Pine Restaurant </td></tr><tr><td>10300</td><td>Magazzini Alimentari Riuniti </td></tr><tr><td>10275</td><td>Magazzini Alimentari Riuniti </td></tr><tr><td>10404</td><td>Magazzini Alimentari Riuniti </td></tr><tr><td>10424</td><td>Mère Paillarde </td></tr><tr><td>10439</td><td>Mère Paillarde </td></tr><tr><td>10332</td><td>Mère Paillarde </td></tr><tr><td>10339</td><td>Mère Paillarde </td></tr><tr><td>10376</td><td>Mère Paillarde </td></tr><tr><td>10277</td><td>Morgenstern Gesundkost </td></tr><tr><td>10409</td><td>Océano Atlántico Ltda. </td></tr><tr><td>10441</td><td>Old World Delicatessen </td></tr><tr><td>10260</td><td>Old World Delicatessen </td></tr><tr><td>10305</td><td>Old World Delicatessen </td></tr><tr><td>10338</td><td>Old World Delicatessen </td></tr><tr><td>10407</td><td>Ottilies Käseladen </td></tr><tr><td>10322</td><td>Pericles Comidas clásicas </td></tr><tr><td>10354</td><td>Pericles Comidas clásicas </td></tr><tr><td>10353</td><td>Piccolo und mehr </td></tr><tr><td>10427</td><td>Piccolo und mehr </td></tr><tr><td>10392</td><td>Piccolo und mehr </td></tr><tr><td>10397</td><td>Princesa Isabel Vinhoss </td></tr><tr><td>10433</td><td>Princesa Isabel Vinhoss </td></tr><tr><td>10336</td><td>Princesa Isabel Vinhoss </td></tr><tr><td>10379</td><td>Que Delícia </td></tr><tr><td>10291</td><td>Que Delícia </td></tr><tr><td>10261</td><td>Que Delícia </td></tr><tr><td>10421</td><td>Que Delícia </td></tr><tr><td>10406</td><td>Queen Cozinha </td></tr><tr><td>10372</td><td>Queen Cozinha </td></tr><tr><td>10361</td><td>QUICK-Stop </td></tr><tr><td>10345</td><td>QUICK-Stop </td></tr><tr><td>10273</td><td>QUICK-Stop </td></tr><tr><td>10285</td><td>QUICK-Stop </td></tr><tr><td>10286</td><td>QUICK-Stop </td></tr><tr><td>10313</td><td>QUICK-Stop </td></tr><tr><td>10418</td><td>QUICK-Stop </td></tr><tr><td>10401</td><td>Rattlesnake Canyon Grocery </td></tr><tr><td>10314</td><td>Rattlesnake Canyon Grocery </td></tr><tr><td>10316</td><td>Rattlesnake Canyon Grocery </td></tr><tr><td>10294</td><td>Rattlesnake Canyon Grocery </td></tr><tr><td>10272</td><td>Rattlesnake Canyon Grocery </td></tr><tr><td>10262</td><td>Rattlesnake Canyon Grocery </td></tr><tr><td>10346</td><td>Rattlesnake Canyon Grocery </td></tr><tr><td>10288</td><td>Reggiani Caseifici </td></tr><tr><td>10428</td><td>Reggiani Caseifici </td></tr><tr><td>10443</td><td>Reggiani Caseifici </td></tr><tr><td>10299</td><td>Ricardo Adocicados </td></tr><tr><td>10287</td><td>Ricardo Adocicados </td></tr><tr><td>10255</td><td>Richter Supermarkt </td></tr><tr><td>10419</td><td>Richter Supermarkt </td></tr><tr><td>10281</td><td>Romero y tomillo </td></tr><tr><td>10282</td><td>Romero y tomillo </td></tr><tr><td>10306</td><td>Romero y tomillo </td></tr><tr><td>10387</td><td>Santé Gourmet </td></tr><tr><td>10324</td><td>Save-a-lot Markets </td></tr><tr><td>10398</td><td>Save-a-lot Markets </td></tr><tr><td>10393</td><td>Save-a-lot Markets </td></tr><tr><td>10440</td><td>Save-a-lot Markets </td></tr><tr><td>10388</td><td>Seven Seas Imports </td></tr><tr><td>10377</td><td>Seven Seas Imports </td></tr><tr><td>10359</td><td>Seven Seas Imports </td></tr><tr><td>10341</td><td>Simons bistro </td></tr><tr><td>10417</td><td>Simons bistro </td></tr><tr><td>10432</td><td>Split Rail Beer &amp; Ale </td></tr><tr><td>10349</td><td>Split Rail Beer &amp; Ale </td></tr><tr><td>10329</td><td>Split Rail Beer &amp; Ale </td></tr><tr><td>10369</td><td>Split Rail Beer &amp; Ale </td></tr><tr><td>10385</td><td>Split Rail Beer &amp; Ale </td></tr><tr><td>10271</td><td>Split Rail Beer &amp; Ale </td></tr><tr><td>10252</td><td>Suprêmes délices </td></tr><tr><td>10302</td><td>Suprêmes délices </td></tr><tr><td>10310</td><td>The Big Cheese </td></tr><tr><td>10438</td><td>Toms Spezialitäten </td></tr><tr><td>10304</td><td>Tortuga Restaurante </td></tr><tr><td>10293</td><td>Tortuga Restaurante </td></tr><tr><td>10276</td><td>Tortuga Restaurante </td></tr><tr><td>10319</td><td>Tortuga Restaurante </td></tr><tr><td>10249</td><td>Tradição Hipermercados </td></tr><tr><td>10292</td><td>Tradição Hipermercados </td></tr><tr><td>10367</td><td>Vaffeljernet </td></tr><tr><td>10399</td><td>Vaffeljernet </td></tr><tr><td>10334</td><td>Victuailles en stock </td></tr><tr><td>10251</td><td>Victuailles en stock </td></tr><tr><td>10274</td><td>Vins et alcools Chevalier </td></tr><tr><td>10295</td><td>Vins et alcools Chevalier </td></tr><tr><td>10301</td><td>Die Wandernde Kuh </td></tr><tr><td>10312</td><td>Die Wandernde Kuh </td></tr><tr><td>10348</td><td>Die Wandernde Kuh </td></tr><tr><td>10356</td><td>Die Wandernde Kuh </td></tr><tr><td>10333</td><td>Wartian Herkku </td></tr><tr><td>10320</td><td>Wartian Herkku </td></tr><tr><td>10270</td><td>Wartian Herkku </td></tr><tr><td>10266</td><td>Wartian Herkku </td></tr><tr><td>10416</td><td>Wartian Herkku </td></tr><tr><td>10412</td><td>Wartian Herkku </td></tr><tr><td>10437</td><td>Wartian Herkku </td></tr><tr><td>10420</td><td>Wellington Importadora </td></tr><tr><td>10256</td><td>Wellington Importadora </td></tr><tr><td>10269</td><td>White Clover Markets </td></tr><tr><td>10344</td><td>White Clover Markets </td></tr><tr><td>10248</td><td>Wilman Kala </td></tr><tr><td>10374</td><td>Wolski </td></tr></table>"
                    },
                    "metadata": {}
                }
            ],
            "execution_count": 59
        },
        {
            "cell_type": "markdown",
            "source": [
                "**Use AND for Multiple Conditions**"
            ],
            "metadata": {
                "azdata_cell_guid": "f1feedd9-052d-414c-b56d-a43b41cf69b1"
            },
            "attachments": {}
        },
        {
            "cell_type": "code",
            "source": [
                "SELECT * FROM dbo.Orders \r\n",
                "WHERE CustomerID = 90 AND EmployeeID = 5;\r\n",
                ""
            ],
            "metadata": {
                "azdata_cell_guid": "88d85bc3-15e5-46d8-8dce-d3a27b443c4f",
                "language": "sql"
            },
            "outputs": [
                {
                    "output_type": "display_data",
                    "data": {
                        "text/html": "(1 row affected)"
                    },
                    "metadata": {}
                },
                {
                    "output_type": "display_data",
                    "data": {
                        "text/html": "Total execution time: 00:00:00.013"
                    },
                    "metadata": {}
                },
                {
                    "output_type": "execute_result",
                    "execution_count": 4,
                    "data": {
                        "application/vnd.dataresource+json": {
                            "schema": {
                                "fields": [
                                    {
                                        "name": "OrderID"
                                    },
                                    {
                                        "name": "CustomerID"
                                    },
                                    {
                                        "name": "EmployeeID"
                                    },
                                    {
                                        "name": "OrderDate"
                                    },
                                    {
                                        "name": "ShipperID"
                                    }
                                ]
                            },
                            "data": [
                                {
                                    "OrderID": "10248",
                                    "CustomerID": "90",
                                    "EmployeeID": "5",
                                    "OrderDate": "1996-07-04",
                                    "ShipperID": "3"
                                }
                            ]
                        },
                        "text/html": "<table><tr><th>OrderID</th><th>CustomerID</th><th>EmployeeID</th><th>OrderDate</th><th>ShipperID</th></tr><tr><td>10248</td><td>90</td><td>5</td><td>1996-07-04</td><td>3</td></tr></table>"
                    },
                    "metadata": {}
                }
            ],
            "execution_count": 4
        },
        {
            "cell_type": "markdown",
            "source": [
                "**Use Subqueries to Nest Queries**"
            ],
            "metadata": {
                "azdata_cell_guid": "8024944a-92cf-4c04-899e-0a07b864beb6"
            },
            "attachments": {}
        },
        {
            "cell_type": "code",
            "source": [
                "SELECT * FROM dbo.Products \r\n",
                "WHERE SupplierID IN (SELECT SupplierID FROM dbo.Suppliers WHERE Country = 'Spain ');\r\n",
                ""
            ],
            "metadata": {
                "azdata_cell_guid": "264bb46e-01b7-44e3-bf42-c33133df470b",
                "language": "sql"
            },
            "outputs": [
                {
                    "output_type": "display_data",
                    "data": {
                        "text/html": "(2 rows affected)"
                    },
                    "metadata": {}
                },
                {
                    "output_type": "display_data",
                    "data": {
                        "text/html": "Total execution time: 00:00:00.014"
                    },
                    "metadata": {}
                },
                {
                    "output_type": "execute_result",
                    "execution_count": 11,
                    "data": {
                        "application/vnd.dataresource+json": {
                            "schema": {
                                "fields": [
                                    {
                                        "name": "ProductID"
                                    },
                                    {
                                        "name": "ProductName"
                                    },
                                    {
                                        "name": "SupplierID"
                                    },
                                    {
                                        "name": "CategoryID"
                                    },
                                    {
                                        "name": "Unit"
                                    },
                                    {
                                        "name": "Price"
                                    }
                                ]
                            },
                            "data": [
                                {
                                    "ProductID": "11",
                                    "ProductName": "Queso Cabrales ",
                                    "SupplierID": "5",
                                    "CategoryID": "4",
                                    "Unit": "NULL",
                                    "Price": "21.00"
                                },
                                {
                                    "ProductID": "12",
                                    "ProductName": "Queso Manchego La Pastora ",
                                    "SupplierID": "5",
                                    "CategoryID": "4",
                                    "Unit": "NULL",
                                    "Price": "38.00"
                                }
                            ]
                        },
                        "text/html": "<table><tr><th>ProductID</th><th>ProductName</th><th>SupplierID</th><th>CategoryID</th><th>Unit</th><th>Price</th></tr><tr><td>11</td><td>Queso Cabrales </td><td>5</td><td>4</td><td>NULL</td><td>21.00</td></tr><tr><td>12</td><td>Queso Manchego La Pastora </td><td>5</td><td>4</td><td>NULL</td><td>38.00</td></tr></table>"
                    },
                    "metadata": {}
                }
            ],
            "execution_count": 11
        },
        {
            "cell_type": "markdown",
            "source": [
                ""
            ],
            "metadata": {
                "azdata_cell_guid": "6154b4fe-4e43-4447-8cf8-77785d1c8812"
            }
        },
        {
            "cell_type": "markdown",
            "source": [
                ""
            ],
            "metadata": {
                "azdata_cell_guid": "4b394ea1-cfd7-4b74-805d-a84d5b0d322d"
            }
        }
    ]
}